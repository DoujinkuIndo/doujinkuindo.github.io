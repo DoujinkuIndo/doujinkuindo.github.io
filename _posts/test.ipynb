{
 "cells": [
  {
   "cell_type": "markdown",
   "metadata": {},
   "source": [
    "How many light verbs are too many?"
   ]
  },
  {
   "cell_type": "code",
   "execution_count": 1,
   "metadata": {
    "collapsed": true
   },
   "outputs": [],
   "source": [
    "import nltk"
   ]
  },
  {
   "cell_type": "code",
   "execution_count": 2,
   "metadata": {
    "collapsed": true
   },
   "outputs": [],
   "source": [
    "# First, let's grab a function to find the number of light verbs"
   ]
  },
  {
   "cell_type": "code",
   "execution_count": 3,
   "metadata": {
    "collapsed": true
   },
   "outputs": [],
   "source": [
    "# Here's out text\n",
    "text = \"Call me Ishmael. Some years ago- never mind how long precisely- having little or no money in my purse, and nothing particular to interest me on shore, I thought I would sail about a little and see the watery part of the world. It is a way I have of driving off the spleen and regulating the circulation. Whenever I find myself growing grim about the mouth; whenever it is a damp, drizzly November in my soul; whenever I find myself involuntarily pausing before coffin warehouses, and bringing up the rear of every funeral I meet; and especially whenever my hypos get such an upper hand of me, that it requires a strong moral principle to prevent me from deliberately stepping into the street, and methodically knocking people's hats off- then, I account it high time to get to sea as soon as I can.\""
   ]
  },
  {
   "cell_type": "code",
   "execution_count": 4,
   "metadata": {},
   "outputs": [
    {
     "name": "stdout",
     "output_type": "stream",
     "text": [
      "['Call', 'me', 'Ishmael', '.', 'Some', 'years', 'ago-', 'never', 'mind', 'how', 'long', 'precisely-', 'having', 'little', 'or', 'no', 'money', 'in', 'my', 'purse', ',', 'and', 'nothing', 'particular', 'to', 'interest', 'me', 'on', 'shore', ',', 'I', 'thought', 'I', 'would', 'sail', 'about', 'a', 'little', 'and', 'see', 'the', 'watery', 'part', 'of', 'the', 'world', '.', 'It', 'is', 'a', 'way', 'I', 'have', 'of', 'driving', 'off', 'the', 'spleen', 'and', 'regulating', 'the', 'circulation', '.', 'Whenever', 'I', 'find', 'myself', 'growing', 'grim', 'about', 'the', 'mouth', ';', 'whenever', 'it', 'is', 'a', 'damp', ',', 'drizzly', 'November', 'in', 'my', 'soul', ';', 'whenever', 'I', 'find', 'myself', 'involuntarily', 'pausing', 'before', 'coffin', 'warehouses', ',', 'and', 'bringing', 'up', 'the', 'rear', 'of', 'every', 'funeral', 'I', 'meet', ';', 'and', 'especially', 'whenever', 'my', 'hypos', 'get', 'such', 'an', 'upper', 'hand', 'of', 'me', ',', 'that', 'it', 'requires', 'a', 'strong', 'moral', 'principle', 'to', 'prevent', 'me', 'from', 'deliberately', 'stepping', 'into', 'the', 'street', ',', 'and', 'methodically', 'knocking', 'people', \"'s\", 'hats', 'off-', 'then', ',', 'I', 'account', 'it', 'high', 'time', 'to', 'get', 'to', 'sea', 'as', 'soon', 'as', 'I', 'can', '.']\n"
     ]
    }
   ],
   "source": [
    "# Now let's find the tokens\n",
    "def tokinze_text(raw_text):\n",
    "    tokens = nltk.word_tokenize(raw_text)\n",
    "    return tokens\n",
    "\n",
    "tokens = tokinze_text(text)\n",
    "print(tokens)"
   ]
  },
  {
   "cell_type": "code",
   "execution_count": 5,
   "metadata": {},
   "outputs": [
    {
     "name": "stdout",
     "output_type": "stream",
     "text": [
      "['call', 'me', 'ishmael', 'some', 'years', 'ago-', 'never', 'mind', 'how', 'long', 'precisely-', 'having', 'little', 'or', 'no', 'money', 'in', 'my', 'purse', 'and', 'nothing', 'particular', 'to', 'interest', 'me', 'on', 'shore', 'i', 'thought', 'i', 'would', 'sail', 'about', 'a', 'little', 'and', 'see', 'the', 'watery', 'part', 'of', 'the', 'world', 'it', 'is', 'a', 'way', 'i', 'have', 'of', 'driving', 'off', 'the', 'spleen', 'and', 'regulating', 'the', 'circulation', 'whenever', 'i', 'find', 'myself', 'growing', 'grim', 'about', 'the', 'mouth', 'whenever', 'it', 'is', 'a', 'damp', 'drizzly', 'november', 'in', 'my', 'soul', 'whenever', 'i', 'find', 'myself', 'involuntarily', 'pausing', 'before', 'coffin', 'warehouses', 'and', 'bringing', 'up', 'the', 'rear', 'of', 'every', 'funeral', 'i', 'meet', 'and', 'especially', 'whenever', 'my', 'hypos', 'get', 'such', 'an', 'upper', 'hand', 'of', 'me', 'that', 'it', 'requires', 'a', 'strong', 'moral', 'principle', 'to', 'prevent', 'me', 'from', 'deliberately', 'stepping', 'into', 'the', 'street', 'and', 'methodically', 'knocking', 'people', 'hats', 'off-', 'then', 'i', 'account', 'it', 'high', 'time', 'to', 'get', 'to', 'sea', 'as', 'soon', 'as', 'i', 'can']\n",
      "[0, 1, 2, 4, 5, 6, 7, 8, 9, 10, 11, 12, 13, 14, 15, 16, 17, 18, 19, 21, 22, 23, 24, 25, 26, 27, 28, 30, 31, 32, 33, 34, 35, 36, 37, 38, 39, 40, 41, 42, 43, 44, 45, 47, 48, 49, 50, 51, 52, 53, 54, 55, 56, 57, 58, 59, 60, 61, 63, 64, 65, 66, 67, 68, 69, 70, 71, 73, 74, 75, 76, 77, 79, 80, 81, 82, 83, 85, 86, 87, 88, 89, 90, 91, 92, 93, 95, 96, 97, 98, 99, 100, 101, 102, 103, 104, 106, 107, 108, 109, 110, 111, 112, 113, 114, 115, 116, 117, 119, 120, 121, 122, 123, 124, 125, 126, 127, 128, 129, 130, 131, 132, 133, 134, 136, 137, 138, 139, 141, 142, 143, 145, 146, 147, 148, 149, 150, 151, 152, 153, 154, 155, 156, 157, 158]\n"
     ]
    }
   ],
   "source": [
    "# OK, that grabbed everything. Let's just extract the words\n",
    "words = []\n",
    "word2token_map = []\n",
    "# While we're going through everything, let's also extract the punctuation\n",
    "puncs = []\n",
    "punc2token_map = []\n",
    "for idx, token in enumerate(tokens):\n",
    "    # Use \"isalnum\" to check if character is alphanumberic (decimal or letter, aka not punctuation)\n",
    "    if token[0].isalnum() or (token in [\"'m\", \"'re\", \"'ve\", \"'d\", \"'ll\"]):\n",
    "        words.append(token.lower())\n",
    "        word2token_map.append(idx)\n",
    "    else:\n",
    "        puncs.append(token)\n",
    "        punc2token_map.append(idx)\n",
    "            \n",
    "print(words)\n",
    "print(word2token_map)"
   ]
  },
  {
   "cell_type": "code",
   "execution_count": 6,
   "metadata": {
    "collapsed": true
   },
   "outputs": [],
   "source": [
    "# Let's make a single function to determine the parts of speech\n",
    "# We'll use this to copy and paste from other notebooks\n",
    "\n",
    "import re\n",
    "import nltk\n",
    "import os\n",
    "#from collections import Counter # Is this used?\n",
    "\n",
    "# First we break the text into tokens\n",
    "def tokinze_text(raw_text):\n",
    "    tokens = nltk.word_tokenize(raw_text)\n",
    "    return tokens\n",
    "tokens = tokinze_text(text)\n",
    "\n",
    "def mytagger(tokens):\n",
    "    '''This function inputs tokens'''\n",
    "    tags = nltk.pos_tag(tokens)\n",
    "    return tags\n",
    "\n",
    "tagged = mytagger(tokens)\n",
    "\n",
    "# Note that IN can be either a preposition or a conjunction, for now we're going to list it with the prepositions\n",
    "common_noun_pos = ['NN', 'NNS']\n",
    "common_nouns = []\n",
    "verb_pos = ['VB', 'VBD', 'VBG', 'VBN', 'VBP', 'VBZ']\n",
    "verbs=[]\n",
    "adjective_pos = ['JJ', 'JJR', 'JJS']\n",
    "adjectives = []\n",
    "pronoun_pos = ['PRP', 'PRP$', 'WP', 'WP$']\n",
    "pronouns = []\n",
    "adverb_pos = ['RB', 'RBR', 'RBS', 'WRB']\n",
    "adverbs = []\n",
    "proper_noun_pos = ['NNP', 'NNPS']\n",
    "proper_nouns = []\n",
    "conjunction_pos = ['CC']\n",
    "conjunctions = []\n",
    "preposition_pos = ['IN', 'TO']\n",
    "prepositions = []\n",
    "interjection_pos = ['UH']\n",
    "interjections = []\n",
    "modal_pos = ['MD'] # But these are also verbs, so let's make sure they show up as such\n",
    "modals = []\n",
    "tagged_other_pos = ['CD', 'DT', 'EX', 'FW', 'LS', 'PDT', 'POS', 'RP', 'SYM', 'WDT']\n",
    "tagged_others = []\n",
    "other = []\n",
    "\n",
    "for idx, token in enumerate(tagged):\n",
    "    if token[1] in common_noun_pos:\n",
    "        common_nouns.append(token)\n",
    "    elif token[1] in verb_pos:\n",
    "        verbs.append(token)\n",
    "    elif token[1] in adjective_pos:\n",
    "        adjectives.append(token)\n",
    "    elif token[1] in pronoun_pos:\n",
    "        pronouns.append(token)\n",
    "    elif token[1] in adverb_pos:\n",
    "        adverbs.append(token)\n",
    "    elif token[1] in proper_noun_pos:\n",
    "        proper_nouns.append(token)\n",
    "    elif token[1] in conjunction_pos:\n",
    "        conjunctions.append(token)\n",
    "    elif token[1] in preposition_pos:\n",
    "        prepositions.append(token)\n",
    "    elif token[1] in interjection_pos:\n",
    "        interjections.append(token)\n",
    "    elif token[1] in modal_pos:\n",
    "        modals.append(token)\n",
    "    elif token[1] in tagged_other_pos:\n",
    "        tagged_others.append(token)\n",
    "    else:\n",
    "        other.append(token)\n",
    "    \n",
    "\n",
    "parts_of_speech = [common_nouns, verbs, adjectives, pronouns, adverbs, proper_nouns, conjunctions, prepositions, interjections, modals]\n",
    "   \n",
    "# Apped modals to verbs\n",
    "# Create nouns that is both proper nouns and common nouns"
   ]
  },
  {
   "cell_type": "code",
   "execution_count": 7,
   "metadata": {},
   "outputs": [
    {
     "name": "stdout",
     "output_type": "stream",
     "text": [
      "['be', 'am', \"'m\", 'is', 'are', \"'re\", 'wa', 'were', 'been', 'have', 'ha', 'had', \"'ve\", 'do', 'doe', 'did', 'done', 'go', 'goe', 'went', 'gone', 'give', 'gave', 'given', 'put', 'take', 'took', 'taken', 'feel', 'felt', 'begin', 'began', 'begun', 'get', 'got', 'make', 'put', '']\n"
     ]
    }
   ],
   "source": [
    "# Let's grab our list of all the light verbs\n",
    "file = 'corpora/light_verbs.txt'\n",
    "with open(file, 'r') as f:\n",
    "    light_verbs = f.read().splitlines()\n",
    "print(light_verbs)"
   ]
  },
  {
   "cell_type": "code",
   "execution_count": 9,
   "metadata": {
    "collapsed": true
   },
   "outputs": [],
   "source": [
    "# But you should be comparing stems, so find the stems for all these first\n",
    "# Before we do any stemming, let's make a list of all the irregular word stems\n",
    "with open(os.path.join(os.path.dirname(os.getcwd()), 'StyleStudio/corpora/irregular-stems')) as f:\n",
    "    dict_irregular_stems_lines = f.read().splitlines()\n",
    "    dict_irregular_stems_draft = [line.split(',') for line in dict_irregular_stems_lines]\n",
    "    dict_irregular_stems = {}\n",
    "    for stem_old, stem_new in dict_irregular_stems_draft:\n",
    "        dict_irregular_stems[stem_old] = stem_new"
   ]
  },
  {
   "cell_type": "code",
   "execution_count": 10,
   "metadata": {
    "collapsed": true
   },
   "outputs": [],
   "source": [
    "# Now let's create a stemmer\n",
    "stemmer = nltk.PorterStemmer()\n",
    "def stem_better(word):\n",
    "    stem = stemmer.stem(word.lower())\n",
    "    if stem in dict_irregular_stems:\n",
    "        stem = dict_irregular_stems[stem]\n",
    "    return stem"
   ]
  },
  {
   "cell_type": "code",
   "execution_count": 11,
   "metadata": {
    "collapsed": true
   },
   "outputs": [],
   "source": [
    "# OK, now let's put all the stems inside the data dictionary\n",
    "data = {}\n",
    "stems = [stem_better(word) for word in words]\n",
    "data['stems'] = [None] * len(tokens)\n",
    "for idx, stem in enumerate(stems):\n",
    "    data['stems'][word2token_map[idx]] = stem"
   ]
  },
  {
   "cell_type": "code",
   "execution_count": 15,
   "metadata": {},
   "outputs": [
    {
     "data": {
      "text/plain": [
       "\"# OK, now we've got our list of light verb stems, and our stems of all our words (data['stems']), \\n# let's see what light verbs we have\\n\\nlt_vrb = []\\nfor x in range(len(verbs)):\\n    if verbs[x] in light_verbs:\\n        lt_vrb.append(verbs[x])\\nprint(lt_vrb)\""
      ]
     },
     "execution_count": 15,
     "metadata": {},
     "output_type": "execute_result"
    }
   ],
   "source": [
    "'''# OK, now we've got our list of light verb stems, and our stems of all our words (data['stems']), \n",
    "# let's see what light verbs we have\n",
    "\n",
    "lt_vrb = []\n",
    "for x in range(len(verbs)):\n",
    "    if verbs[x] in light_verbs:\n",
    "        lt_vrb.append(verbs[x])\n",
    "print(lt_vrb)'''"
   ]
  },
  {
   "cell_type": "code",
   "execution_count": 16,
   "metadata": {
    "collapsed": true
   },
   "outputs": [],
   "source": [
    "#light_verbs"
   ]
  },
  {
   "cell_type": "code",
   "execution_count": 17,
   "metadata": {},
   "outputs": [
    {
     "name": "stdout",
     "output_type": "stream",
     "text": [
      "[False, False, False, None, False, False, False, False, False, False, False, False, True, False, False, False, False, False, False, False, None, False, False, False, False, False, False, False, False, None, False, False, False, False, False, False, False, False, False, False, False, False, False, False, False, False, None, False, True, False, False, False, True, False, False, False, False, False, False, False, False, False, None, False, False, False, False, False, False, False, False, False, None, False, False, True, False, False, None, False, False, False, False, False, None, False, False, False, False, False, False, False, False, False, None, False, False, False, False, False, False, False, False, False, False, None, False, False, False, False, False, True, False, False, False, False, False, False, None, False, False, False, False, False, False, False, False, False, False, False, False, False, False, False, False, None, False, False, False, False, None, False, False, False, None, False, False, False, False, False, False, True, False, False, False, False, False, False, False, None]\n"
     ]
    }
   ],
   "source": [
    "# Now let's enumerate through the word tokens and find the light verbs\n",
    "light = [None] * len(tokens)\n",
    "verb_pos = ['VB', 'VBD', 'VBG', 'VBN', 'VBP', 'VBZ']\n",
    "for idx_word, word in enumerate(words):\n",
    "    idx = word2token_map[idx_word]\n",
    "    #print(tagged[idx][1])\n",
    "    light[idx] = (tagged[idx][1] in verb_pos) and (data['stems'][idx] in light_verbs)\n",
    "print(light)"
   ]
  },
  {
   "cell_type": "code",
   "execution_count": 18,
   "metadata": {},
   "outputs": [
    {
     "name": "stdout",
     "output_type": "stream",
     "text": [
      "['having', 'is', 'have', 'is', 'get', 'get']\n",
      "[12, 48, 52, 75, 111, 151]\n"
     ]
    }
   ],
   "source": [
    "# Now let's print all the light verbs\n",
    "from itertools import compress\n",
    "light_verbs_in_text = list(compress(tokens, light))\n",
    "print(light_verbs_in_text)\n",
    "# Now let's look where they are in the text\n",
    "light_verbs_posi = [i for i, x in enumerate(light) if x]\n",
    "print(light_verbs_posi)"
   ]
  },
  {
   "cell_type": "code",
   "execution_count": 19,
   "metadata": {
    "collapsed": true
   },
   "outputs": [],
   "source": [
    "# Next: find and print the entire sentence\n",
    "# Then: Compare to other famous authors, make a cool graph"
   ]
  },
  {
   "cell_type": "code",
   "execution_count": 20,
   "metadata": {
    "collapsed": true
   },
   "outputs": [],
   "source": [
    "# Let's grab this to look at sentences\n",
    "punct_error_re = re.compile('^([\"\\]\\)\\}]+)(?:[ \\n]|$)')\n",
    "ellipsis_re = re.compile('\\.\\.\\.[\"\\(\\)\\[\\]\\{\\} ] [A-Z]')\n",
    "newline_re = re.compile('\\n[\"\\(\\[\\{ ]*[A-Z]')\n",
    "empty_sent_re = re.compile('^[\\n ]*$')\n",
    "def sentencize(text):\n",
    "    # tokenize text into sentences\n",
    "    text_eg_ie = text.replace('e.g.', 'e.---g.').replace('i.e.', 'i.---e.')\n",
    "    sents_draft = nltk.sent_tokenize(text_eg_ie)\n",
    "    for idx, sent in enumerate(sents_draft[:]):\n",
    "        sents_draft[idx] = sents_draft[idx].replace('e.---g.', 'e.g.').replace('i.---e.', 'i.e.')\n",
    "        print(idx)\n",
    "        if idx > 0:\n",
    "            punct_error = punct_error_re.findall(sent)\n",
    "            if punct_error:\n",
    "                sents_draft[idx-1] += punct_error[0]\n",
    "                sents_draft[idx] = sents_draft[idx][len(punct_error[0])+1:]\n",
    "                print(idx)\n",
    "\n",
    "    # separate sentences at ellipsis characters correctly\n",
    "    sents_draft_2 = []\n",
    "    for sent in sents_draft:\n",
    "        idx = 0\n",
    "        for ellipsis_case in ellipsis_re.finditer(sent):\n",
    "            sents_draft_2.append(sent[idx:(ellipsis_case.start() + 3)])\n",
    "            idx = ellipsis_case.start() + 3\n",
    "            print(idx)\n",
    "        sents_draft_2.append(sent[idx:])\n",
    "\n",
    "    # separate sentences at newline characters correctly\n",
    "    sents = []\n",
    "    for sent in sents_draft_2:\n",
    "        idx = 0\n",
    "        for newline_case in newline_re.finditer(sent):\n",
    "            print(\"Now Im here\") # is this even being used?\n",
    "            sents.append(sent[idx:(newline_case.start() + 1)])\n",
    "            idx = newline_case.start() + 1\n",
    "            print(idx)\n",
    "        sents.append(sent[idx:])\n",
    "\n",
    "    # delete empty sentences\n",
    "    sents = [sent for sent in sents if not empty_sent_re.match(sent)]\n",
    "    return sents"
   ]
  },
  {
   "cell_type": "code",
   "execution_count": 21,
   "metadata": {},
   "outputs": [
    {
     "name": "stdout",
     "output_type": "stream",
     "text": [
      "0\n",
      "1\n",
      "2\n",
      "3\n"
     ]
    }
   ],
   "source": [
    "sents = sentencize(text)"
   ]
  },
  {
   "cell_type": "code",
   "execution_count": 22,
   "metadata": {},
   "outputs": [
    {
     "data": {
      "text/plain": [
       "['Call me Ishmael.',\n",
       " 'Some years ago- never mind how long precisely- having little or no money in my purse, and nothing particular to interest me on shore, I thought I would sail about a little and see the watery part of the world.',\n",
       " 'It is a way I have of driving off the spleen and regulating the circulation.',\n",
       " \"Whenever I find myself growing grim about the mouth; whenever it is a damp, drizzly November in my soul; whenever I find myself involuntarily pausing before coffin warehouses, and bringing up the rear of every funeral I meet; and especially whenever my hypos get such an upper hand of me, that it requires a strong moral principle to prevent me from deliberately stepping into the street, and methodically knocking people's hats off- then, I account it high time to get to sea as soon as I can.\"]"
      ]
     },
     "execution_count": 22,
     "metadata": {},
     "output_type": "execute_result"
    }
   ],
   "source": [
    "sents"
   ]
  },
  {
   "cell_type": "code",
   "execution_count": 23,
   "metadata": {
    "collapsed": true
   },
   "outputs": [],
   "source": [
    "# What I'm trying to do now is find and print the sentence that goes with the word I've suggested"
   ]
  },
  {
   "cell_type": "code",
   "execution_count": 24,
   "metadata": {
    "collapsed": true
   },
   "outputs": [],
   "source": [
    "# OK, so next we'll assign every word a sentence number\n",
    "# tokenize sentences into words and punctuation marks\n",
    "sents_tokens = [nltk.word_tokenize(sent) for sent in sents]\n",
    "tokens = [token for sent in sents_tokens for token in sent]\n",
    "data['values'] = tokens\n",
    "# Now let's give every word a sentence number. All the words in the first sentence have a value\n",
    "#  of 1, second sentence 2, etc.\n",
    "data['sentence_numbers'] = [(idx+1) for idx, sent in enumerate(sents_tokens) for token in sent]"
   ]
  },
  {
   "cell_type": "code",
   "execution_count": 25,
   "metadata": {},
   "outputs": [
    {
     "name": "stdout",
     "output_type": "stream",
     "text": [
      "['having', 'is', 'have', 'is', 'get', 'get']\n",
      "[12, 48, 52, 75, 111, 151]\n",
      "[1, 1, 1, 1, 2, 2, 2, 2, 2, 2, 2, 2, 2, 2, 2, 2, 2, 2, 2, 2, 2, 2, 2, 2, 2, 2, 2, 2, 2, 2, 2, 2, 2, 2, 2, 2, 2, 2, 2, 2, 2, 2, 2, 2, 2, 2, 2, 3, 3, 3, 3, 3, 3, 3, 3, 3, 3, 3, 3, 3, 3, 3, 3, 4, 4, 4, 4, 4, 4, 4, 4, 4, 4, 4, 4, 4, 4, 4, 4, 4, 4, 4, 4, 4, 4, 4, 4, 4, 4, 4, 4, 4, 4, 4, 4, 4, 4, 4, 4, 4, 4, 4, 4, 4, 4, 4, 4, 4, 4, 4, 4, 4, 4, 4, 4, 4, 4, 4, 4, 4, 4, 4, 4, 4, 4, 4, 4, 4, 4, 4, 4, 4, 4, 4, 4, 4, 4, 4, 4, 4, 4, 4, 4, 4, 4, 4, 4, 4, 4, 4, 4, 4, 4, 4, 4, 4, 4, 4, 4, 4]\n"
     ]
    }
   ],
   "source": [
    "#OK, now we've got our light words:\n",
    "print(light_verbs_in_text)\n",
    "# We've also got our position of each word\n",
    "print(light_verbs_posi)\n",
    "# And, finally, we've got our sentence numbers:\n",
    "print(data['sentence_numbers'])"
   ]
  },
  {
   "cell_type": "code",
   "execution_count": 26,
   "metadata": {
    "collapsed": true
   },
   "outputs": [],
   "source": [
    "# OK, there might be some extra stuff above, but let's get back on topic\n",
    "# We're going to find the ratio of light verbs to total words for this book"
   ]
  },
  {
   "cell_type": "markdown",
   "metadata": {},
   "source": [
    "Let's grab the beginning of Great Expectations"
   ]
  },
  {
   "cell_type": "code",
   "execution_count": 29,
   "metadata": {
    "collapsed": true
   },
   "outputs": [],
   "source": [
    "# Let's grab some of Great Expectations, maybe the first 10000 characters?\n",
    "import re\n",
    "from urllib import request\n",
    "\n",
    "# Now let's grab some text from Great Expectations\n",
    "url = 'http://www.gutenberg.org/files/1400/1400-0.txt'\n",
    "response = request.urlopen(url)\n",
    "raw = response.read().decode('utf8')\n"
   ]
  },
  {
   "cell_type": "markdown",
   "metadata": {},
   "source": [
    "Here is some text we'll start with."
   ]
  },
  {
   "cell_type": "code",
   "execution_count": 30,
   "metadata": {
    "collapsed": true
   },
   "outputs": [],
   "source": [
    "text = raw[886:] # Jumping to where it actually starts\n",
    "# Let's clean out all the annoying line markings\n",
    "text = text.replace('\\r', '')\n",
    "text = text.replace('\\n', ' ')\n",
    "#print(text)"
   ]
  },
  {
   "cell_type": "code",
   "execution_count": 31,
   "metadata": {
    "collapsed": true
   },
   "outputs": [],
   "source": [
    "# Let's see what percentage of these words are light verbs\n",
    "# First we have to tokenize\n",
    "tokens = tokinze_text(text)\n",
    "# Then we have to extract the words. We'll ignore punctuation for now\n",
    "words = []\n",
    "word2token_map = []\n",
    "for idx, token in enumerate(tokens):\n",
    "    # Use \"isalnum\" to check if character is alphanumberic (decimal or letter, aka not punctuation)\n",
    "    if token[0].isalnum() or (token in [\"'m\", \"'re\", \"'ve\", \"'d\", \"'ll\"]):\n",
    "        words.append(token.lower())\n",
    "        word2token_map.append(idx)"
   ]
  },
  {
   "cell_type": "code",
   "execution_count": 32,
   "metadata": {
    "collapsed": true
   },
   "outputs": [],
   "source": [
    "# Now we have to tag all the words\n",
    "tagged = mytagger(tokens)"
   ]
  },
  {
   "cell_type": "code",
   "execution_count": 33,
   "metadata": {
    "collapsed": true
   },
   "outputs": [],
   "source": [
    "# We'll make a function out of the last step\n",
    "def find_light_verbs(tokens, words):\n",
    "    # Let's enumerate through the word tokens and find the light verbs\n",
    "    light = [None] * len(tokens)\n",
    "    verb_pos = ['VB', 'VBD', 'VBG', 'VBN', 'VBP', 'VBZ']\n",
    "    for idx_word, word in enumerate(words):\n",
    "        idx = word2token_map[idx_word]\n",
    "        #print(tagged[idx][1])\n",
    "        light[idx] = (tagged[idx][1] in verb_pos)# and (data['stems'][idx] in light_verbs)\n",
    "    return light"
   ]
  },
  {
   "cell_type": "code",
   "execution_count": 34,
   "metadata": {
    "collapsed": true
   },
   "outputs": [],
   "source": [
    "light_verbs = find_light_verbs(tokens, words) # using light and light interchangeably; bad!"
   ]
  },
  {
   "cell_type": "code",
   "execution_count": 35,
   "metadata": {},
   "outputs": [
    {
     "name": "stdout",
     "output_type": "stream",
     "text": [
      "There are 36584 light verbs in this text\n",
      "That is 15.89% of words in this text\n"
     ]
    }
   ],
   "source": [
    "# Let's delete all the None values\n",
    "cleaned = [x for x in light_verbs if x is not None]\n",
    "print(\"There are {} light verbs in this text\".format(sum(cleaned)))\n",
    "print(\"That is {:.2%} of words in this text\".format(sum(cleaned)/len(light_verbs)))"
   ]
  },
  {
   "cell_type": "code",
   "execution_count": 36,
   "metadata": {
    "collapsed": true
   },
   "outputs": [],
   "source": [
    "# Now let's do the same for Moby Dick\n",
    "url = 'http://www.gutenberg.org/files/2701/2701-0.txt'\n",
    "beginning = 28876\n",
    "def light_verbs_in_book(url, beginning):\n",
    "    response = request.urlopen(url)\n",
    "    raw = response.read().decode('utf8')\n",
    "    # Here is some text we'll start with\n",
    "    text = raw[beginning:] # Jump to the beginning\n",
    "    # Let's clean out all the annoying line markings\n",
    "    text = text.replace('\\r', '')\n",
    "    text = text.replace('\\n', ' ')\n",
    "\n",
    "\n",
    "    # First we have to tokenize\n",
    "    tokens = tokinze_text(text)\n",
    "    # Then we have to extract the words. We'll ignore punctuation for now\n",
    "    words = []\n",
    "    word2token_map = []\n",
    "    for idx, token in enumerate(tokens):\n",
    "        # Use \"isalnum\" to check if character is alphanumberic (decimal or letter, aka not punctuation)\n",
    "        if token[0].isalnum() or (token in [\"'m\", \"'re\", \"'ve\", \"'d\", \"'ll\"]):\n",
    "            words.append(token.lower())\n",
    "            word2token_map.append(idx)\n",
    "            \n",
    "    # Now we have to tag all the words\n",
    "    tagged = mytagger(tokens)  \n",
    "    \n",
    "    light_verbs = find_light_verbs(tokens, words)\n",
    "    \n",
    "    cleaned = [x for x in light_verbs if x is not None]\n",
    "    print(\"There are {} light verbs in this text\".format(sum(cleaned)))\n",
    "    print(\"That is {:.2%} of words in this text\".format(sum(cleaned)/len(light_verbs)))"
   ]
  },
  {
   "cell_type": "code",
   "execution_count": 43,
   "metadata": {
    "collapsed": true
   },
   "outputs": [],
   "source": [
    "#light_verbs_in_book(url, beginning)"
   ]
  },
  {
   "cell_type": "code",
   "execution_count": null,
   "metadata": {
    "collapsed": true
   },
   "outputs": [],
   "source": []
  },
  {
   "cell_type": "code",
   "execution_count": 38,
   "metadata": {},
   "outputs": [
    {
     "name": "stdout",
     "output_type": "stream",
     "text": [
      "There are 33245 light verbs in this text\n",
      "That is 13.11% of words in this text\n"
     ]
    }
   ],
   "source": [
    "# Now let's do the same for Moby Dick\n",
    "url = 'http://www.gutenberg.org/files/2701/2701-0.txt'\n",
    "beginning = 28876\n",
    "\n",
    "response = request.urlopen(url)\n",
    "raw = response.read().decode('utf8')\n",
    "# Here is some text we'll start with\n",
    "text = raw[beginning:] # Jump to the beginning\n",
    "# Let's clean out all the annoying line markings\n",
    "text = text.replace('\\r', '')\n",
    "text = text.replace('\\n', ' ')\n",
    "\n",
    "\n",
    "# First we have to tokenize\n",
    "tokens = tokinze_text(text)\n",
    "# Then we have to extract the words. We'll ignore punctuation for now\n",
    "words = []\n",
    "word2token_map = []\n",
    "for idx, token in enumerate(tokens):\n",
    "    # Use \"isalnum\" to check if character is alphanumberic (decimal or letter, aka not punctuation)\n",
    "    if token[0].isalnum() or (token in [\"'m\", \"'re\", \"'ve\", \"'d\", \"'ll\"]):\n",
    "        words.append(token.lower())\n",
    "        word2token_map.append(idx)\n",
    "\n",
    "# Now we have to tag all the words\n",
    "tagged = mytagger(tokens)  \n",
    "\n",
    "light_verbs = find_light_verbs(tokens, words)\n",
    "\n",
    "cleaned = [x for x in light_verbs if x is not None]\n",
    "print(\"There are {} light verbs in this text\".format(sum(cleaned)))\n",
    "print(\"That is {:.2%} of words in this text\".format(sum(cleaned)/len(light_verbs)))"
   ]
  },
  {
   "cell_type": "code",
   "execution_count": 39,
   "metadata": {
    "collapsed": true
   },
   "outputs": [],
   "source": [
    "# Should this be out off all words or just verbs? I think verbs\n",
    "# OK, so let's look at how many are words. We should also do a part of speech break down"
   ]
  },
  {
   "cell_type": "code",
   "execution_count": 40,
   "metadata": {
    "collapsed": true
   },
   "outputs": [],
   "source": [
    "# Let's do the part of speech break down now\n",
    "# We're doing this on the Part of Speech notebook"
   ]
  },
  {
   "cell_type": "code",
   "execution_count": 41,
   "metadata": {
    "collapsed": true
   },
   "outputs": [],
   "source": [
    "# From the Part of Speech notebook:\n",
    "# OK, but we haven't made a way to visual the results yet. Let's do that now with a pie chart\n",
    "import matplotlib.pyplot as plt\n",
    "def pos_plotter(parts_of_speech):\n",
    "    '''This function inputs a specific list of lists that is shown in the Part of Speech notebook'''\n",
    "    all_labels = ['common_nouns', 'verbs', 'adjectives', 'pronouns', 'adverbs', 'proper_nouns', 'conjunctions', 'prepositions', 'interjections', 'modals']\n",
    "    pos_dict = dict(zip(all_labels, parts_of_speech))\n",
    "    labels=[]\n",
    "    data=[]\n",
    "    for pos, lst in pos_dict.items():\n",
    "        if lst:\n",
    "            data.append(len(lst))\n",
    "            labels.append(pos)\n",
    "    fig1, ax1 = plt.subplots()\n",
    "    ax1.pie(data, labels=labels)\n",
    "    ax1.axis('equal')  # Equal aspect ratio ensures that pie is drawn as a circle.\n",
    "    plt.show()"
   ]
  },
  {
   "cell_type": "code",
   "execution_count": 42,
   "metadata": {},
   "outputs": [
    {
     "data": {
      "image/png": "[encoded data removed]",
      "text/plain": [
       "<matplotlib.figure.Figure at 0x14b2d278>"
      ]
     },
     "metadata": {},
     "output_type": "display_data"
    }
   ],
   "source": [
    "pos_plotter(parts_of_speech)"
   ]
  },
  {
   "cell_type": "markdown",
   "metadata": {
    "collapsed": true
   },
   "source": [
    "Now that we've worked through one example, we'll build a more formalized method of exploring other texts in [Part 2](https://jss367.github.io/Light-verbs-2/)"
   ]
  },
  {
   "cell_type": "code",
   "execution_count": null,
   "metadata": {
    "collapsed": true
   },
   "outputs": [],
   "source": []
  }
 ],
 "metadata": {
  "kernelspec": {
   "display_name": "Python 3",
   "language": "python",
   "name": "python3"
  },
  "language_info": {
   "codemirror_mode": {
    "name": "ipython",
    "version": 3
   },
   "file_extension": ".py",
   "mimetype": "text/x-python",
   "name": "python",
   "nbconvert_exporter": "python",
   "pygments_lexer": "ipython3",
   "version": "3.6.2"
  }
 },
 "nbformat": 4,
 "nbformat_minor": 2
}
