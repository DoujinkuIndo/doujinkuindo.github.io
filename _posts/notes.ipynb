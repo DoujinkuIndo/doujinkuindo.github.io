{
 "cells": [
  {
   "cell_type": "markdown",
   "metadata": {},
   "source": [
    "Let's start with some basic commands"
   ]
  },
  {
   "cell_type": "code",
   "execution_count": 1,
   "metadata": {},
   "outputs": [
    {
     "name": "stdout",
     "output_type": "stream",
     "text": [
      "8\n",
      "1\n"
     ]
    }
   ],
   "source": [
    "#Exponentiation: **\n",
    "print(2**3)\n",
    "#Modulo: %\n",
    "print(7%3)\n"
   ]
  },
  {
   "cell_type": "markdown",
   "metadata": {},
   "source": [
    "## Strings"
   ]
  },
  {
   "cell_type": "code",
   "execution_count": 2,
   "metadata": {},
   "outputs": [
    {
     "name": "stdout",
     "output_type": "stream",
     "text": [
      "The easiest way is this: abcd\n",
      "You can also multiply a string by an int to make it repeat: ababab\n",
      "But you cannot do the same with subtraction or division\n",
      "abcd\n",
      "George Washington\n"
     ]
    }
   ],
   "source": [
    "#Concatenating strings:\n",
    "a='ab'\n",
    "c='cd'\n",
    "print(\"The easiest way is this: \" + a + c)\n",
    "print(\"You can also multiply a string by an int to make it repeat: {}\".format(3*a))\n",
    "try:\n",
    "    a-'a'\n",
    "except TypeError:\n",
    "    print('But you cannot do the same with subtraction or division')\n",
    "s=[]\n",
    "s.append(a)\n",
    "s.append(c)\n",
    "st = ''.join(s)\n",
    "print(st)\n",
    "\n",
    "#Remove a letter from a string\n",
    "#String are immutable, so you will have to create a new string each time\n",
    "old_str = 'George WashMington'\n",
    "new_str = old_str.replace('M', '')\n",
    "print(new_str)"
   ]
  },
  {
   "cell_type": "code",
   "execution_count": 3,
   "metadata": {},
   "outputs": [
    {
     "name": "stdout",
     "output_type": "stream",
     "text": [
      "found \"thing\"\n"
     ]
    },
    {
     "data": {
      "text/plain": [
       "8"
      ]
     },
     "execution_count": 3,
     "metadata": {},
     "output_type": "execute_result"
    }
   ],
   "source": [
    "phrase = 'And now for something completely different'\n",
    "if 'thing' in phrase:\n",
    "     print('found \"thing\"')\n",
    "phrase.find('for')"
   ]
  },
  {
   "cell_type": "code",
   "execution_count": 4,
   "metadata": {},
   "outputs": [
    {
     "data": {
      "text/plain": [
       "'s.find(t)\\tindex of first instance of string t inside s (-1 if not found)\\ns.rfind(t)\\tindex of last instance of string t inside s (-1 if not found)\\ns.index(t)\\tlike s.find(t) except it raises ValueError if not found\\ns.rindex(t)\\tlike s.rfind(t) except it raises ValueError if not found\\ns.join(text)\\tcombine the words of the text into a string using s as the glue\\ns.split(t)\\tsplit s into a list wherever a t is found (whitespace by default)\\ns.splitlines()\\tsplit s into a list of strings, one per line\\ns.lower()\\ta lowercased version of the string s\\ns.upper()\\tan uppercased version of the string s\\ns.title()\\ta titlecased version of the string s\\ns.strip()\\ta copy of s without leading or trailing whitespace\\ns.replace(t, u)\\treplace instances of t with u inside s'"
      ]
     },
     "execution_count": 4,
     "metadata": {},
     "output_type": "execute_result"
    }
   ],
   "source": [
    "'''s.find(t)\tindex of first instance of string t inside s (-1 if not found)\n",
    "s.rfind(t)\tindex of last instance of string t inside s (-1 if not found)\n",
    "s.index(t)\tlike s.find(t) except it raises ValueError if not found\n",
    "s.rindex(t)\tlike s.rfind(t) except it raises ValueError if not found\n",
    "s.join(text)\tcombine the words of the text into a string using s as the glue\n",
    "s.split(t)\tsplit s into a list wherever a t is found (whitespace by default)\n",
    "s.splitlines()\tsplit s into a list of strings, one per line\n",
    "s.lower()\ta lowercased version of the string s\n",
    "s.upper()\tan uppercased version of the string s\n",
    "s.title()\ta titlecased version of the string s\n",
    "s.strip()\ta copy of s without leading or trailing whitespace\n",
    "s.replace(t, u)\treplace instances of t with u inside s'''"
   ]
  },
  {
   "cell_type": "code",
   "execution_count": 5,
   "metadata": {},
   "outputs": [
    {
     "data": {
      "text/plain": [
       "'We called him Tortoise because he taught us .'"
      ]
     },
     "execution_count": 5,
     "metadata": {},
     "output_type": "execute_result"
    }
   ],
   "source": [
    "silly = ['We', 'called', 'him', 'Tortoise', 'because', 'he', 'taught', 'us', '.']\n",
    "' '.join(silly)"
   ]
  },
  {
   "cell_type": "code",
   "execution_count": 3,
   "metadata": {},
   "outputs": [
    {
     "name": "stdout",
     "output_type": "stream",
     "text": [
      "tup is a <class 'tuple'> and lis is a <class 'list'>\n",
      "tup2 is also a <class 'tuple'>\n"
     ]
    }
   ],
   "source": [
    "#tuples vs lists:\n",
    "tup = ('i am', 1, 'great tuple', [2,3])\n",
    "lis = ['i am', 1, 'great list', [2,3]]\n",
    "print('tup is a {t} and lis is a {l}'.format(t=type(tup), l=type(lis)))\n",
    "tup2 = 'a', 'b', 4\n",
    "print('tup2 is also a {t2}'.format(t2=type(tup2)))"
   ]
  },
  {
   "cell_type": "markdown",
   "metadata": {},
   "source": [
    "# Lists\n",
    "list of lists= [['list1', 3], ['list2', 4]]\n",
    "list = ['striong', True, 3]\n",
    "list = [1+2, \"a\" * 5, 3]\n",
    "ther = [3, 5, 6, 8,]\n",
    "ther[-2] -> 6\n",
    "list slicing: [start : end] is [inclusive : exclusive], so the last value is the slice is not included\n",
    "actually is [start : end :step] , so ther[0:5:2] -> [3, 6]\n",
    "all of these are optional, so can just do ther[:3] and there is an implied 0\n",
    "even the end is implied, so can just do ther[::2] and that means beginnning to end in steps of 2\n",
    "can also do ther[2::2] -> 6"
   ]
  },
  {
   "cell_type": "code",
   "execution_count": 4,
   "metadata": {},
   "outputs": [
    {
     "name": "stdout",
     "output_type": "stream",
     "text": [
      "6\n"
     ]
    }
   ],
   "source": [
    "#List\n",
    "#square brackets\n",
    "#usually homogeneous, but don't have to be'\n",
    "#mutable, unlike tuple\n",
    "L = [1,2,3]\n",
    "total = 0\n",
    "for i in L:\n",
    "    total +=i\n",
    "print(total)\n",
    "\n",
    "x = [\"a\", \"b\", \"c\", \"d\"]\n",
    "y = x + [\"e\", \"f\"]"
   ]
  },
  {
   "cell_type": "code",
   "execution_count": 5,
   "metadata": {},
   "outputs": [
    {
     "ename": "TypeError",
     "evalue": "'tuple' object does not support item assignment",
     "output_type": "error",
     "traceback": [
      "\u001b[0;31m---------------------------------------------------------------------------\u001b[0m",
      "\u001b[0;31mTypeError\u001b[0m                                 Traceback (most recent call last)",
      "\u001b[0;32m<ipython-input-5-756e9a674610>\u001b[0m in \u001b[0;36m<module>\u001b[0;34m()\u001b[0m\n\u001b[1;32m      3\u001b[0m \u001b[0mtu\u001b[0m \u001b[1;33m=\u001b[0m \u001b[1;33m(\u001b[0m\u001b[1;36m1\u001b[0m\u001b[1;33m,\u001b[0m \u001b[1;36m2\u001b[0m\u001b[1;33m,\u001b[0m \u001b[1;36m3\u001b[0m\u001b[1;33m)\u001b[0m\u001b[1;33m\u001b[0m\u001b[0m\n\u001b[1;32m      4\u001b[0m \u001b[1;31m#tuple are immutable, so the following will give you an error:\u001b[0m\u001b[1;33m\u001b[0m\u001b[1;33m\u001b[0m\u001b[0m\n\u001b[0;32m----> 5\u001b[0;31m \u001b[0mtu\u001b[0m\u001b[1;33m[\u001b[0m\u001b[1;36m2\u001b[0m\u001b[1;33m]\u001b[0m \u001b[1;33m=\u001b[0m \u001b[1;36m5\u001b[0m\u001b[1;33m\u001b[0m\u001b[0m\n\u001b[0m\u001b[1;32m      6\u001b[0m \u001b[1;31m#Use tuples to flip values\u001b[0m\u001b[1;33m\u001b[0m\u001b[1;33m\u001b[0m\u001b[0m\n\u001b[1;32m      7\u001b[0m \u001b[0ma\u001b[0m\u001b[1;33m=\u001b[0m\u001b[1;36m1\u001b[0m\u001b[1;33m\u001b[0m\u001b[0m\n",
      "\u001b[0;31mTypeError\u001b[0m: 'tuple' object does not support item assignment"
     ]
    }
   ],
   "source": [
    "#More on tuples\n",
    "#tuple\n",
    "tu = (1, 2, 3)\n",
    "#tuple are immutable, so the following will give you an error:\n",
    "tu[2] = 5\n",
    "#Use tuples to flip values\n",
    "a=1\n",
    "b=2\n",
    "(b,a) = (a,b)\n",
    "print(\"a is {a} and b is {b}\".format(a=a,b=b))\n",
    "#also use tuples to return multiple values from a function"
   ]
  },
  {
   "cell_type": "code",
   "execution_count": 6,
   "metadata": {},
   "outputs": [
    {
     "data": {
      "text/plain": [
       "1"
      ]
     },
     "execution_count": 6,
     "metadata": {},
     "output_type": "execute_result"
    }
   ],
   "source": [
    "#Indexes are a common way to access the words of a text, or, more generally, the elements of any list\n",
    "tu.index(2)"
   ]
  },
  {
   "cell_type": "markdown",
   "metadata": {},
   "source": [
    "## Printing"
   ]
  },
  {
   "cell_type": "code",
   "execution_count": 9,
   "metadata": {},
   "outputs": [
    {
     "name": "stdout",
     "output_type": "stream",
     "text": [
      "Shall I compare thee to a Summer's day?\n",
      "Thou are more lovely and more temperate:\n"
     ]
    }
   ],
   "source": [
    "#The print command yields Python's attempt to produce the most human-readable form of an object.\n",
    "#The second method — naming the variable at a prompt — shows us a string that can be used to recreate this object.\n",
    "#printing on multiple lines\n",
    "couplet = \"\"\"Shall I compare thee to a Summer's day?\n",
    "Thou are more lovely and more temperate:\"\"\"\n",
    "print(couplet)"
   ]
  },
  {
   "cell_type": "code",
   "execution_count": 10,
   "metadata": {},
   "outputs": [
    {
     "data": {
      "text/plain": [
       "\"When we inspect a variable by typing its name in the interpreter, the interpreter prints the Python representation of its value. Since it's a string, the result is quoted. However, when we tell the interpreter to print the contents of the variable, we don't see quotation characters since there are none inside the string.\""
      ]
     },
     "execution_count": 10,
     "metadata": {},
     "output_type": "execute_result"
    }
   ],
   "source": [
    "'''When we inspect a variable by typing its name in the interpreter, the interpreter prints the Python representation of its value. Since it's a string, the result is quoted. However, when we tell the interpreter to print the contents of the variable, we don't see quotation characters since there are none inside the string.'''"
   ]
  },
  {
   "cell_type": "code",
   "execution_count": 11,
   "metadata": {},
   "outputs": [
    {
     "name": "stdout",
     "output_type": "stream",
     "text": [
      "Part Iand I\n",
      "Part I and I\n"
     ]
    }
   ],
   "source": [
    "#If you use a comma in the print statement you get an extra space\n",
    "a = 'Part I'\n",
    "b = 'and I'\n",
    "print(a + b)\n",
    "print(a, b)"
   ]
  },
  {
   "cell_type": "markdown",
   "metadata": {},
   "source": [
    "### Using the format printing method"
   ]
  },
  {
   "cell_type": "code",
   "execution_count": 3,
   "metadata": {},
   "outputs": [
    {
     "name": "stdout",
     "output_type": "stream",
     "text": [
      "3.14\n",
      "33.30%\n",
      "50.10%% of 7 are weak\n"
     ]
    }
   ],
   "source": [
    "print('{:.2f}'.format(3.1415))\n",
    "print('{:.2%}'.format(.333))\n",
    "print(\"{perc:.2%}% of {num_verbs} are weak\".format(perc=.501, num_verbs=7))"
   ]
  },
  {
   "cell_type": "markdown",
   "metadata": {},
   "source": [
    "## Lists versus numpy arrays"
   ]
  },
  {
   "cell_type": "code",
   "execution_count": 7,
   "metadata": {},
   "outputs": [
    {
     "name": "stdout",
     "output_type": "stream",
     "text": [
      "[1, 2, 3, 1, 2, 3]\n",
      "[2 4 6]\n"
     ]
    }
   ],
   "source": [
    "import numpy as np\n",
    "python_list = [1,2,3]\n",
    "np_array = np.array([1,2,3])\n",
    "print(python_list + python_list)\n",
    "print(np_array + np_array)\n",
    "#so know which type you're using and be careful"
   ]
  },
  {
   "cell_type": "code",
   "execution_count": 8,
   "metadata": {},
   "outputs": [],
   "source": [
    "#Operations you can do to any data type, strings, tuples, ranges, and list\n",
    "##These work on any of the data types\n",
    "seq = ['list', 5] # list\n",
    "seq = 'string' #string\n",
    "seq = 1, 'is', 'a', 'tuple' #tuple\n",
    "seq = range(10) #range"
   ]
  },
  {
   "cell_type": "code",
   "execution_count": 9,
   "metadata": {},
   "outputs": [
    {
     "name": "stdout",
     "output_type": "stream",
     "text": [
      "range(1, 6, 2)\n",
      "False\n"
     ]
    }
   ],
   "source": [
    "seq[3]\n",
    "len(seq)\n",
    "#seq + seq #this one doesn't work with range\n",
    "#2*seq #this one doesn't work with range\n",
    "print(seq[1:6:2]) #start at 1 (inclusive), end at 6 (exclusive), go in steps of 2\n",
    "print(4 not in seq) #returns a bool"
   ]
  },
  {
   "cell_type": "code",
   "execution_count": 10,
   "metadata": {},
   "outputs": [
    {
     "name": "stdout",
     "output_type": "stream",
     "text": [
      "12\n",
      "False\n",
      "dict_keys(['Charlie', 'New', 'Alice', 'Bob'])\n",
      "dict_values([12, 'yes', True, False])\n"
     ]
    }
   ],
   "source": [
    "#Dictionaries:\n",
    "#Instead of using indexes, uses key-value pairs\n",
    "entries = {'Alice' : True, 'Bob' : False, 'Charlie' : 12}\n",
    "print(entries['Charlie'])\n",
    "print('New' in entries)\n",
    "entries['New'] = 'yes'\n",
    "print(entries.keys())\n",
    "print(entries.values())\n",
    "#Anything can go inside dictionaries, including functions; keys must be unique"
   ]
  },
  {
   "cell_type": "markdown",
   "metadata": {},
   "source": [
    "## Error handling"
   ]
  },
  {
   "cell_type": "code",
   "execution_count": 11,
   "metadata": {},
   "outputs": [],
   "source": [
    "#Error Messages\n",
    "#Index error - trying to act beyond the limits of a test\n",
    "#ex: ing = [1,2,3] ing[4]\n",
    "#Value error - this can be many things, but one is very similar to an Index error\n",
    "#mylist = [10, 20, 30] \n",
    "#mylist.index(11)\n",
    "#Type error - trying to convert an inappropriate type\n",
    "#ex: int(\"string\") or '4'/3\n",
    "#NameError - trying to call a variablethat doesn't exist\n",
    "#ex: calling count +=1 before you initiate count\n",
    "#SyntaxError - forgetting to close parentheses, quotes, etc.\n",
    "#IOError - file not found"
   ]
  },
  {
   "cell_type": "code",
   "execution_count": 12,
   "metadata": {},
   "outputs": [
    {
     "name": "stdout",
     "output_type": "stream",
     "text": [
      "Gimme a number: \n",
      "that's not an int\n",
      "Whether there's an exception or not, this runs. Good for closing a file.\n",
      "Gimme a number: \n",
      "that's not an int\n"
     ]
    }
   ],
   "source": [
    "#handlers for exceptions\n",
    "try:\n",
    "    int(input('Gimme a number: '))\n",
    "    print('all good')\n",
    "except:\n",
    "    print(\"that's not an int\")\n",
    "finally:\n",
    "    print(\"Whether there's an exception or not, this runs. Good for closing a file.\")\n",
    "    \n",
    "#Can also be more specific:\n",
    "\n",
    "try:\n",
    "    a = int(input('Gimme a number: '))\n",
    "    b = int(input('Gimme another: '))\n",
    "    print(a/b)\n",
    "except ValueError:\n",
    "    print(\"that's not an int\")\n",
    "except ZeroDivisionError:\n",
    "    print(\"Can't divide by zero\")\n",
    "except:\n",
    "    print(\"I don't even know what you did wrong\")\n",
    "    \n",
    "#use raise if you want to raise the exception to the next level\n",
    "#can also return values using return"
   ]
  },
  {
   "cell_type": "markdown",
   "metadata": {
    "collapsed": true
   },
   "source": [
    "# Printing"
   ]
  },
  {
   "cell_type": "code",
   "execution_count": 96,
   "metadata": {},
   "outputs": [
    {
     "name": "stdout",
     "output_type": "stream",
     "text": [
      "there is \n",
      "no\n",
      "better\n",
      "idea\n"
     ]
    }
   ],
   "source": [
    "#spacing\n",
    "the = '''there is \n",
    "no\n",
    "better\n",
    "idea'''\n",
    "print(the)"
   ]
  },
  {
   "cell_type": "markdown",
   "metadata": {},
   "source": [
    "## Functions"
   ]
  },
  {
   "cell_type": "code",
   "execution_count": 13,
   "metadata": {},
   "outputs": [
    {
     "name": "stdout",
     "output_type": "stream",
     "text": [
      "2.0\n"
     ]
    },
    {
     "ename": "AssertionError",
     "evalue": "Number must be even",
     "output_type": "error",
     "traceback": [
      "\u001b[0;31m---------------------------------------------------------------------------\u001b[0m",
      "\u001b[0;31mAssertionError\u001b[0m                            Traceback (most recent call last)",
      "\u001b[0;32m<ipython-input-13-953e259355f7>\u001b[0m in \u001b[0;36m<module>\u001b[0;34m()\u001b[0m\n\u001b[1;32m      4\u001b[0m     \u001b[1;32mreturn\u001b[0m \u001b[0mx\u001b[0m \u001b[1;33m/\u001b[0m \u001b[1;36m2\u001b[0m\u001b[1;33m\u001b[0m\u001b[0m\n\u001b[1;32m      5\u001b[0m \u001b[0mprint\u001b[0m\u001b[1;33m(\u001b[0m\u001b[0mfunc\u001b[0m\u001b[1;33m(\u001b[0m\u001b[1;36m4\u001b[0m\u001b[1;33m)\u001b[0m\u001b[1;33m)\u001b[0m\u001b[1;33m\u001b[0m\u001b[0m\n\u001b[0;32m----> 6\u001b[0;31m \u001b[0mfunc\u001b[0m\u001b[1;33m(\u001b[0m\u001b[1;36m3\u001b[0m\u001b[1;33m)\u001b[0m\u001b[1;33m\u001b[0m\u001b[0m\n\u001b[0m",
      "\u001b[0;32m<ipython-input-13-953e259355f7>\u001b[0m in \u001b[0;36mfunc\u001b[0;34m(x)\u001b[0m\n\u001b[1;32m      1\u001b[0m \u001b[1;31m#Can also assert things:\u001b[0m\u001b[1;33m\u001b[0m\u001b[1;33m\u001b[0m\u001b[0m\n\u001b[1;32m      2\u001b[0m \u001b[1;32mdef\u001b[0m \u001b[0mfunc\u001b[0m\u001b[1;33m(\u001b[0m\u001b[0mx\u001b[0m\u001b[1;33m)\u001b[0m\u001b[1;33m:\u001b[0m\u001b[1;33m\u001b[0m\u001b[0m\n\u001b[0;32m----> 3\u001b[0;31m     \u001b[1;32massert\u001b[0m \u001b[1;33m(\u001b[0m\u001b[0mx\u001b[0m\u001b[1;33m%\u001b[0m\u001b[1;36m2\u001b[0m \u001b[1;33m==\u001b[0m \u001b[1;36m0\u001b[0m\u001b[1;33m)\u001b[0m\u001b[1;33m,\u001b[0m \u001b[1;34m\"Number must be even\"\u001b[0m\u001b[1;31m#Assert that x is even; this makes the program stop immediately if it is not\u001b[0m\u001b[1;33m\u001b[0m\u001b[0m\n\u001b[0m\u001b[1;32m      4\u001b[0m     \u001b[1;32mreturn\u001b[0m \u001b[0mx\u001b[0m \u001b[1;33m/\u001b[0m \u001b[1;36m2\u001b[0m\u001b[1;33m\u001b[0m\u001b[0m\n\u001b[1;32m      5\u001b[0m \u001b[0mprint\u001b[0m\u001b[1;33m(\u001b[0m\u001b[0mfunc\u001b[0m\u001b[1;33m(\u001b[0m\u001b[1;36m4\u001b[0m\u001b[1;33m)\u001b[0m\u001b[1;33m)\u001b[0m\u001b[1;33m\u001b[0m\u001b[0m\n",
      "\u001b[0;31mAssertionError\u001b[0m: Number must be even"
     ]
    }
   ],
   "source": [
    "#Can also assert things:\n",
    "def func(x):\n",
    "    assert (x%2 == 0), \"Number must be even\"#Assert that x is even; this makes the program stop immediately if it is not\n",
    "    return x / 2\n",
    "print(func(4))\n",
    "func(3)"
   ]
  },
  {
   "cell_type": "markdown",
   "metadata": {},
   "source": [
    "### Documenting functions"
   ]
  },
  {
   "cell_type": "code",
   "execution_count": 27,
   "metadata": {},
   "outputs": [
    {
     "data": {
      "text/plain": [
       "'For the simplest functions, a one-line docstring is usually adequate.\\nYou should provide a triple-quoted string containing a complete sentence on a single line.\\nFor non-trivial functions, you should still provide a one sentence summary on the first line, \\nsince many docstring processing tools index this string. \\nThis should be followed by a blank line, then a more detailed description of the functionality \\n'"
      ]
     },
     "execution_count": 27,
     "metadata": {},
     "output_type": "execute_result"
    }
   ],
   "source": [
    "'''For the simplest functions, a one-line docstring is usually adequate.\n",
    "You should provide a triple-quoted string containing a complete sentence on a single line.\n",
    "For non-trivial functions, you should still provide a one sentence summary on the first line, \n",
    "since many docstring processing tools index this string. \n",
    "This should be followed by a blank line, then a more detailed description of the functionality \n",
    "'''"
   ]
  },
  {
   "cell_type": "code",
   "execution_count": 14,
   "metadata": {},
   "outputs": [
    {
     "name": "stdout",
     "output_type": "stream",
     "text": [
      "<generator object bigrams at 0x00000244B9E51990>\n"
     ]
    },
    {
     "data": {
      "text/plain": [
       "[('more', 'is'), ('is', 'said'), ('said', 'than'), ('than', 'done')]"
      ]
     },
     "execution_count": 14,
     "metadata": {},
     "output_type": "execute_result"
    }
   ],
   "source": [
    "#Sometimes you will get objects that don't actually print out what you want, just the function\n",
    "import nltk\n",
    "print(nltk.bigrams(['more', 'is', 'said', 'than', 'done']))\n",
    "#This is done to save memory. To actually print it, call the list function\n",
    "list(nltk.bigrams(['more', 'is', 'said', 'than', 'done']))"
   ]
  },
  {
   "cell_type": "code",
   "execution_count": 15,
   "metadata": {},
   "outputs": [
    {
     "name": "stdout",
     "output_type": "stream",
     "text": [
      "The time is 1485660434.6407988\n",
      "12\n"
     ]
    }
   ],
   "source": [
    "#working with time:\n",
    "import datetime as dt\n",
    "import time as tm\n",
    "\n",
    "print(\"The time is {}\".format(tm.time()))\n",
    "\n",
    "dtnow = dt.datetime.fromtimestamp(tm.time())\n",
    "print(dtnow.hour)"
   ]
  },
  {
   "cell_type": "code",
   "execution_count": 16,
   "metadata": {},
   "outputs": [
    {
     "name": "stdout",
     "output_type": "stream",
     "text": [
      "<map object at 0x00000244B9E946D8>\n"
     ]
    },
    {
     "data": {
      "text/plain": [
       "[10, 10, 50]"
      ]
     },
     "execution_count": 16,
     "metadata": {},
     "output_type": "execute_result"
    }
   ],
   "source": [
    "#Map function is a basis of functional programming\n",
    "a = [12, 10, 50]\n",
    "b = [10, 10, 70]\n",
    "cheapest_item = map(min,a,b)\n",
    "print(cheapest_item)\n",
    "#This printing is known as \"lazy evaluation\", and it is done to be more efficient. It doesn't actually run the function until the inside is called\n",
    "#To actually print the item, do this:\n",
    "list(cheapest_item)\n",
    "#Note that another way to do this would be with the lambda function:\n",
    "#list(map(lambda min, a))"
   ]
  },
  {
   "cell_type": "code",
   "execution_count": 17,
   "metadata": {},
   "outputs": [
    {
     "name": "stdout",
     "output_type": "stream",
     "text": [
      "2\n",
      "3\n",
      "5\n",
      "7\n"
     ]
    },
    {
     "data": {
      "text/plain": [
       "['Dr. Brooks', 'Dr. Collins-Thompson', 'Dr. Vydiswaran', 'Dr. Romero']"
      ]
     },
     "execution_count": 17,
     "metadata": {},
     "output_type": "execute_result"
    }
   ],
   "source": [
    "primes = [2,3,5,7]\n",
    "list(map(lambda x:print(x),primes))\n",
    "\n",
    "people = ['Dr. Christopher Brooks', 'Dr. Kevyn Collins-Thompson', 'Dr. VG Vinod Vydiswaran', 'Dr. Daniel Romero']\n",
    "\n",
    "def split_title_and_name(person):\n",
    "    return person.split(' ')[0] + ' ' + person.split(' ')[-1]\n",
    "    \n",
    "list(map(split_title_and_name, people))"
   ]
  },
  {
   "cell_type": "markdown",
   "metadata": {},
   "source": [
    "# For loops"
   ]
  },
  {
   "cell_type": "code",
   "execution_count": 18,
   "metadata": {},
   "outputs": [
    {
     "name": "stdout",
     "output_type": "stream",
     "text": [
      "Call\n",
      "me\n",
      "Ishmael\n",
      ".\n"
     ]
    }
   ],
   "source": [
    "for word in ['Call', 'me', 'Ishmael', '.']:\n",
    "    print(word)\n",
    "    \n",
    "'''\n",
    "Python Expression\tComment\n",
    "for item in s\titerate over the items of s\n",
    "for item in sorted(s)\titerate over the items of s in order\n",
    "for item in set(s)\titerate over unique elements of s\n",
    "for item in reversed(s)\titerate over elements of s in reverse\n",
    "for item in set(s).difference(t)\titerate over elements of s not in t'''"
   ]
  },
  {
   "cell_type": "markdown",
   "metadata": {
    "collapsed": true
   },
   "source": [
    "## Python uses references. This can create aliasing problems"
   ]
  },
  {
   "cell_type": "code",
   "execution_count": 6,
   "metadata": {},
   "outputs": [
    {
     "name": "stdout",
     "output_type": "stream",
     "text": [
      "b\n"
     ]
    }
   ],
   "source": [
    "# Here's an example that isn't a problem\n",
    "x = 'b'\n",
    "xray = x\n",
    "xray = 'banana'\n",
    "print(x)"
   ]
  },
  {
   "cell_type": "code",
   "execution_count": 7,
   "metadata": {},
   "outputs": [
    {
     "name": "stdout",
     "output_type": "stream",
     "text": [
      "b\n"
     ]
    }
   ],
   "source": [
    "# Here's an example that is a problem\n",
    "x = 'b'\n",
    "xray = x\n",
    "x = 'banana'\n",
    "print(xray)"
   ]
  },
  {
   "cell_type": "code",
   "execution_count": 8,
   "metadata": {},
   "outputs": [
    {
     "name": "stdout",
     "output_type": "stream",
     "text": [
      "[5, 2, 3, 4]\n"
     ]
    }
   ],
   "source": [
    "# But here's where things get tricky\n",
    "stateraw = [1,2,3,4]\n",
    "stateresults = stateraw\n",
    "stateresults[stateresults == 1] = 5\n",
    "print(stateraw)"
   ]
  },
  {
   "cell_type": "code",
   "execution_count": 9,
   "metadata": {},
   "outputs": [
    {
     "name": "stdout",
     "output_type": "stream",
     "text": [
      "[1, 2, 3, 4]\n"
     ]
    }
   ],
   "source": [
    "# So you have to do\n",
    "stateraw = [1,2,3,4]\n",
    "stateresults = stateraw[:] # This means that you grab a copy, not just a reference\n",
    "stateresults[stateresults == 1] = 5\n",
    "print(stateraw)"
   ]
  },
  {
   "cell_type": "code",
   "execution_count": 14,
   "metadata": {},
   "outputs": [
    {
     "name": "stdout",
     "output_type": "stream",
     "text": [
      "[1, 2, 3, 4]\n"
     ]
    }
   ],
   "source": [
    "# Another way is\n",
    "stateraw = [1,2,3,4]\n",
    "stateresults = list(stateraw) # This means that you grab a copy, not just a reference\n",
    "stateresults[stateresults == 1] = 5\n",
    "print(stateraw)"
   ]
  },
  {
   "cell_type": "code",
   "execution_count": 16,
   "metadata": {},
   "outputs": [
    {
     "name": "stdout",
     "output_type": "stream",
     "text": [
      "[1, 2, 3, 4]\n"
     ]
    }
   ],
   "source": [
    "# A third way is\n",
    "from copy import copy\n",
    "stateraw = [1,2,3,4]\n",
    "stateresults = copy(stateraw)\n",
    "stateresults[stateresults == 1] = 5\n",
    "print(stateraw)"
   ]
  },
  {
   "cell_type": "code",
   "execution_count": null,
   "metadata": {},
   "outputs": [],
   "source": []
  },
  {
   "cell_type": "code",
   "execution_count": 24,
   "metadata": {},
   "outputs": [
    {
     "name": "stdout",
     "output_type": "stream",
     "text": [
      "1955988080 1955988080\n",
      "5 3 5\n",
      "1955988080 1955988016 1955988080\n",
      "1955988080 1955988080\n"
     ]
    }
   ],
   "source": [
    "# Assign a value to a new variable\n",
    "a = 5\n",
    " \n",
    "# Create an alias identifier for this variable\n",
    "b = a\n",
    " \n",
    "# Observe how they refer to the same variable!\n",
    "print (id(a), id(b))\n",
    " \n",
    "# Create another alias\n",
    "c = b\n",
    " \n",
    "# Now assign a new value to b!\n",
    "b = 3\n",
    " \n",
    "# And observe how a and c are still the same variable\n",
    "# But b is not\n",
    "print (a,b,c)\n",
    "print (id(a),id(b),id(c))\n",
    " \n",
    "# Now for another quirk, suppose we do this:\n",
    "b = a\n",
    "b = 5\n",
    " \n",
    "# We used an assignment, but the value didn't actually change\n",
    "# So the alias remains unbroken\n",
    "print (id(a), id(b))"
   ]
  },
  {
   "cell_type": "code",
   "execution_count": 25,
   "metadata": {},
   "outputs": [
    {
     "name": "stdout",
     "output_type": "stream",
     "text": [
      "1896681972936 1896681972936\n",
      "[5, 1] [5, 1]\n",
      "1896681972936 1896681972936\n"
     ]
    }
   ],
   "source": [
    "# Create a new <list>\n",
    "a = [5]\n",
    " \n",
    "# Create an alias identifier for this list\n",
    "b = a\n",
    "print (id(a), id(b))\n",
    " \n",
    "# Now change the <list> b in-place\n",
    "b.append(1)\n",
    " \n",
    "# And observe how this also changes a\n",
    "# The alias is not broken by in-place operations\n",
    "print (a,b)\n",
    "print (id(a),id(b))"
   ]
  },
  {
   "cell_type": "code",
   "execution_count": 26,
   "metadata": {},
   "outputs": [
    {
     "name": "stdout",
     "output_type": "stream",
     "text": [
      "[5] [5]\n",
      "1896680820872 1896681954760\n",
      "[5] [5]\n",
      "1896680820872 1896681971656\n"
     ]
    }
   ],
   "source": [
    "# Create a <list>\n",
    "a = [5]\n",
    " \n",
    "# Create a new <list> with the same value\n",
    "b = list(a)\n",
    " \n",
    "# We now have two separate variables with identical but separate values\n",
    "print (a,b)\n",
    "print (id(a), id(b))\n",
    " \n",
    "# Same with the full slice technique:\n",
    "b = a[:]\n",
    "print (a,b)\n",
    "print (id(a), id(b))\n",
    "#The 'is' operation tests if two objects are identical internal objects, while == tests if two objects are equivalent."
   ]
  },
  {
   "cell_type": "markdown",
   "metadata": {},
   "source": [
    "## Map"
   ]
  },
  {
   "cell_type": "code",
   "execution_count": 29,
   "metadata": {},
   "outputs": [
    {
     "name": "stdout",
     "output_type": "stream",
     "text": [
      "21.75081116158339\n",
      "21.75081116158339\n"
     ]
    }
   ],
   "source": [
    "import nltk\n",
    "lengths = list(map(len, nltk.corpus.brown.sents(categories='news')))\n",
    "print(sum(lengths) / len(lengths))\n",
    "lengths = [len(sent) for sent in nltk.corpus.brown.sents(categories='news')]\n",
    "print(sum(lengths) / len(lengths))"
   ]
  },
  {
   "cell_type": "markdown",
   "metadata": {},
   "source": [
    "## Python Modules"
   ]
  },
  {
   "cell_type": "code",
   "execution_count": 38,
   "metadata": {},
   "outputs": [
    {
     "name": "stdout",
     "output_type": "stream",
     "text": [
      "C:\\Users\\HMGSYS\\Anaconda3\\lib\\site-packages\\nltk\\__init__.py\n",
      "C:\\Users\\HMGSYS\\Anaconda3\\lib\\site-packages\\matplotlib\\pyplot.py\n"
     ]
    }
   ],
   "source": [
    "#You can see where a particular packages is with:\n",
    "print(nltk.__file__)\n",
    "import matplotlib.pyplot as plt\n",
    "print(plt.__file__)\n",
    "#This returns the location of the compiled .pyc file for the module"
   ]
  },
  {
   "cell_type": "markdown",
   "metadata": {},
   "source": [
    "## Enumerate"
   ]
  },
  {
   "cell_type": "code",
   "execution_count": 39,
   "metadata": {
    "collapsed": true
   },
   "outputs": [],
   "source": [
    "#A declarative programming style usually produces more compact, readable code; manually-incremented loop variables are\n",
    "#usually unnecessary; when a sequence must be enumerated, use enumerate()"
   ]
  },
  {
   "cell_type": "code",
   "execution_count": 40,
   "metadata": {},
   "outputs": [
    {
     "data": {
      "text/plain": [
       "'3.5.2 |Anaconda custom (64-bit)| (default, Jul  5 2016, 11:41:13) [MSC v.1900 64 bit (AMD64)]'"
      ]
     },
     "execution_count": 40,
     "metadata": {},
     "output_type": "execute_result"
    }
   ],
   "source": []
  },
  {
   "cell_type": "markdown",
   "metadata": {},
   "source": [
    "## Where am I? What am I doing?"
   ]
  },
  {
   "cell_type": "code",
   "execution_count": 41,
   "metadata": {},
   "outputs": [
    {
     "data": {
      "text/plain": [
       "'3.5.2 |Anaconda custom (64-bit)| (default, Jul  5 2016, 11:41:13) [MSC v.1900 64 bit (AMD64)]'"
      ]
     },
     "execution_count": 41,
     "metadata": {},
     "output_type": "execute_result"
    }
   ],
   "source": [
    "import sys\n",
    "sys.version"
   ]
  },
  {
   "cell_type": "code",
   "execution_count": 43,
   "metadata": {},
   "outputs": [
    {
     "data": {
      "text/plain": [
       "'C:\\\\Users\\\\HMGSYS\\\\Google Drive\\\\JupyterNotebooks\\\\Tutorials'"
      ]
     },
     "execution_count": 43,
     "metadata": {},
     "output_type": "execute_result"
    }
   ],
   "source": [
    "import os\n",
    "os.getcwd() #get current working directory"
   ]
  },
  {
   "cell_type": "markdown",
   "metadata": {
    "collapsed": true
   },
   "source": [
    "# List comprehensions"
   ]
  },
  {
   "cell_type": "code",
   "execution_count": 3,
   "metadata": {},
   "outputs": [
    {
     "data": {
      "text/plain": [
       "'\\nnew_things = []\\nfor ITEM in old_things:\\n    if condition_based_on(ITEM):\\n        new_things.append(\"something with \" + ITEM)\\n'"
      ]
     },
     "execution_count": 3,
     "metadata": {},
     "output_type": "execute_result"
    }
   ],
   "source": [
    "# List comprehensions are a tool for transforming one list (any iterable actually) into another list. \n",
    "# Every list comprehension can be rewritten as a for loop but not every for loop can be rewritten as a list comprehension.\n",
    "\n",
    "#If you can rewrite your code to look just like this for loop, you can also rewrite it as a list comprehension:\n",
    "\n",
    "'''\n",
    "new_things = []\n",
    "for ITEM in old_things:\n",
    "    if condition_based_on(ITEM):\n",
    "        new_things.append(\"something with \" + ITEM)\n",
    "'''\n",
    "\n",
    "#You can rewrite the above for loop as a list comprehension like this:\n",
    "'''\n",
    "new_things = [\"something with \" + ITEM for ITEM in old_things if condition_based_on(ITEM)]\n",
    "'''"
   ]
  },
  {
   "cell_type": "markdown",
   "metadata": {
    "collapsed": true
   },
   "source": [
    "## Finding where your site packages are"
   ]
  },
  {
   "cell_type": "code",
   "execution_count": 1,
   "metadata": {},
   "outputs": [
    {
     "data": {
      "text/plain": [
       "['C:\\\\Users\\\\HMGSYS\\\\Anaconda3\\\\envs\\\\py27',\n",
       " 'C:\\\\Users\\\\HMGSYS\\\\Anaconda3\\\\envs\\\\py27\\\\lib\\\\site-packages']"
      ]
     },
     "execution_count": 1,
     "metadata": {},
     "output_type": "execute_result"
    }
   ],
   "source": [
    "import site\n",
    "site.getsitepackages()"
   ]
  },
  {
   "cell_type": "code",
   "execution_count": null,
   "metadata": {
    "collapsed": true
   },
   "outputs": [],
   "source": []
  }
 ],
 "metadata": {
  "anaconda-cloud": {},
  "kernelspec": {
   "display_name": "Python 3",
   "language": "python",
   "name": "python3"
  },
  "language_info": {
   "codemirror_mode": {
    "name": "ipython",
    "version": 3
   },
   "file_extension": ".py",
   "mimetype": "text/x-python",
   "name": "python",
   "nbconvert_exporter": "python",
   "pygments_lexer": "ipython3",
   "version": "3.6.1"
  }
 },
 "nbformat": 4,
 "nbformat_minor": 1
}
