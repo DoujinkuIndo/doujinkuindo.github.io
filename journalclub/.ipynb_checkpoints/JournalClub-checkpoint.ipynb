{
 "cells": [
  {
   "cell_type": "code",
   "execution_count": 1,
   "metadata": {},
   "outputs": [],
   "source": [
    "from pyzotero import zotero\n",
    "import datetime\n",
    "import re\n",
    "import os"
   ]
  },
  {
   "cell_type": "code",
   "execution_count": 2,
   "metadata": {},
   "outputs": [],
   "source": [
    "library_id = 5473189\n",
    "api_key = \"M7iKvMb3x6QgesMh1lTqQ5aO\"\n",
    "library_type = \"user\"\n",
    "pth = \"C:/Users/piotr/Documents/catniplab.github.io/journalclub/_posts\"\n",
    "def next_weekday(d, weekday):\n",
    "    days_ahead = weekday - d.weekday()\n",
    "    if days_ahead <= 0: # Target day already happened this week\n",
    "        days_ahead += 7\n",
    "    return d + datetime.timedelta(days_ahead)\n",
    "\n",
    "d = datetime.datetime.now().date()\n",
    "next_monday = next_weekday(d, 0) # 0 = Monday, 1=Tuesday, 2=Wednesday..."
   ]
  },
  {
   "cell_type": "code",
   "execution_count": 3,
   "metadata": {},
   "outputs": [],
   "source": [
    "title = \"Hierarchical Heterogeneity across Human Cortex Shapes Large-Scale Neural Dynamics\"\n",
    "pdfname = 'HierarchicalHeterogeneity.pdf'\n",
    "MyTitle = 'HierarchicalHeterogeneity'\n",
    "presenter = \"Yanliang Shi\"\n",
    "\n",
    "zot = zotero.Zotero(library_id, library_type, api_key)\n",
    "query = zot.top(format=\"json\",q=title, limit=7)[0]\n",
    "\n",
    "title = title.replace('\\\"','').replace('\\'','')"
   ]
  },
  {
   "cell_type": "code",
   "execution_count": 4,
   "metadata": {},
   "outputs": [],
   "source": [
    "date = next_monday"
   ]
  },
  {
   "cell_type": "code",
   "execution_count": 5,
   "metadata": {},
   "outputs": [],
   "source": [
    "next_monday = next_monday.strftime(\"%B %d, %Y\")"
   ]
  },
  {
   "cell_type": "code",
   "execution_count": 6,
   "metadata": {},
   "outputs": [],
   "source": [
    "auths = []\n",
    "firstauth = query['data']['creators'][0]['lastName']\n",
    "for creator in query['data']['creators']:\n",
    "    auths+= [creator['firstName'],' ',creator['lastName'],', ']\n",
    "auths = \"\".join(auths)[:-2]\n",
    "# auths = auths.encode('utf-8',errors='ignore').decode()\n",
    "# firstauth = firstauth.encode('utf-8',errors='ignore').decode()"
   ]
  },
  {
   "cell_type": "code",
   "execution_count": 7,
   "metadata": {},
   "outputs": [],
   "source": [
    "abstract = query['data']['abstractNote']\n",
    "abstract = abstract.encode(\"windows-1252\").decode(\"utf-8\",\"ignore\")\n",
    "year = re.search(\"(19[0-9][0-9])|(20[0-1][0-9])|9999$\",query['data']['date']).group()#string\n",
    "url = query['data']['url']\n",
    "journal = query['data']['publicationTitle']\n",
    "JCpaperspth = \"/journalclub/JCpapers/\"+pdfname"
   ]
  },
  {
   "cell_type": "code",
   "execution_count": 8,
   "metadata": {},
   "outputs": [
    {
     "name": "stdout",
     "output_type": "stream",
     "text": [
      "---\n",
      "layout: post\n",
      "title:  Hierarchical Heterogeneity across Human Cortex Shapes Large-Scale Neural Dynamics (2019)\n",
      "category: journalclub\n",
      "olddate: May 13, 2019\n",
      "---\n",
      " \n",
      "*Murat Demirtas, Joshua B. Burt, Markus Helmer, Jie Lisa Ji, Brendan D. Adkinson, Matthew F. Glasser, David C. Van Essen, Stamatios N. Sotiropoulos, Alan Anticevic, John D. Murray*. Neuron (2019) \n",
      "[(Neuron)](http://www.sciencedirect.com/science/article/pii/S0896627319300443)\n",
      "[(local cache)]({{site.url}}/journalclub/JCpapers/HierarchicalHeterogeneity.pdf)\n",
      "\n",
      "#### Abstract\n",
      "Summary\n",
      "The large-scale organization of dynamical neural activity across cortex emerges through long-range interactions among local circuits. We hypothesized that large-scale dynamics are also shaped by heterogeneity of intrinsic local properties across cortical areas. One key axis along which microcircuit properties are specialized relates to hierarchical levels of cortical organization. We developed a large-scale dynamical circuit model of human cortex that incorporates heterogeneity of local synaptic strengths, following a hierarchical axis inferred from magnetic resonance imaging (MRI)-derived T1- to T2-weighted (T1w/T2w) mapping and fit the model using multimodal neuroimaging data. We found that incorporating hierarchical heterogeneity substantially improves the model fit to functional MRI (fMRI)-measured resting-state functional connectivity and captures sensory-association organization of multiple fMRI features. The model predicts hierarchically organized higher-frequency spectral power, which we tested with resting-state magnetoencephalography. These findings suggest circuit-level mechanisms linking spatiotemporal levels of analysis and highlight the importance of local properties and their hierarchical specialization on the large-scale organization of human cortical dynamics.\n"
     ]
    }
   ],
   "source": [
    "contents = \"---\\nlayout: post\\ntitle:  {} ({})\\ncategory: journalclub\\nolddate: {}\\n---\\n \\n*{}*. {} ({}) \\n[({})]({})\\n[(local cache)]({{{{site.url}}}}{})\\n\\n#### Abstract\\n{}\".format(title,year,next_monday,auths,journal,year,journal,url,JCpaperspth,abstract)\n",
    "print(contents)"
   ]
  },
  {
   "cell_type": "code",
   "execution_count": 9,
   "metadata": {},
   "outputs": [],
   "source": [
    "with open(os.path.join(pth,\"\".join([str(date),\"-\",firstauth,\"-\",MyTitle,'.md'])), \"w\") as text_file:\n",
    "    text_file.write(contents)"
   ]
  },
  {
   "cell_type": "code",
   "execution_count": 10,
   "metadata": {},
   "outputs": [
    {
     "data": {
      "text/plain": [
       "(235, b'2.7.0 Accepted')"
      ]
     },
     "execution_count": 10,
     "metadata": {},
     "output_type": "execute_result"
    }
   ],
   "source": [
    "import smtplib\n",
    "s = smtplib.SMTP('smtp.gmail.com', 587)\n",
    "\n",
    "s.starttls()\n",
    "\n",
    "s.login(\"piotr.sokol@stonybrook.edu\", \"M7YVmLfv\")"
   ]
  },
  {
   "cell_type": "code",
   "execution_count": 11,
   "metadata": {},
   "outputs": [],
   "source": [
    "if len(query['data']['creators']) > 1:\n",
    "    firstauth_email=firstauth+\" et al\"\n",
    "else:\n",
    "        firstauth_email=firstauth\n",
    "body =\"Dear all,\\n Our next Computational Neuroscience Journal Club meeting will be *Monday,{}, at 1:00 pm in the IACS Seminar Room*. {}  will be presenting the paper \\\"{}\\\" by  {}.  \\n(You can download the paper from the Catnip Lab web page <https://catniplab.github.io/{}/>)\\n>{}\\n\\nSincerely,\\nPiotr\".format(date.strftime(\"%b %d\"), presenter, title, firstauth_email, \"-\".join([firstauth,MyTitle]),abstract.replace(\"\\n\",\"\\n>\"))"
   ]
  },
  {
   "cell_type": "code",
   "execution_count": 12,
   "metadata": {},
   "outputs": [],
   "source": [
    "to = 'piotr.sokol@stonybrook.edu'\n",
    "to = 'sbu-computational-neuroscience@googlegroups.com'"
   ]
  },
  {
   "cell_type": "code",
   "execution_count": 13,
   "metadata": {},
   "outputs": [],
   "source": [
    "sent_from = 'piotr.sokol@stonybrook.edu'\n",
    "subject = \"Comp. Neuroscience Journal Club Meeting on {} at 1:00 PM\".format(date.strftime(\"%b %d\"))"
   ]
  },
  {
   "cell_type": "code",
   "execution_count": 14,
   "metadata": {},
   "outputs": [],
   "source": [
    "from email.mime.multipart import MIMEMultipart\n",
    "from email.mime.text import MIMEText\n",
    "import base64"
   ]
  },
  {
   "cell_type": "code",
   "execution_count": 15,
   "metadata": {},
   "outputs": [],
   "source": [
    "body_html = \"\"\"\\\n",
    "Dear all,<div><br></div><div>Our next Computational Neuroscience Journal Club meeting will be <b>Monday, {}, at 1:00 pm in the IACS Seminar Room</b>. {} will be presenting the paper &quot;{}&quot; by {}. (You can download the paper from the Catnip Lab <font color=3D\"#1155cc\"><a href=\"https://catniplab.github.io/{}/\">web page</a></font>)<div></div></div><blockquote style=3D\"margin:0px 0px 0px 40px;border:medium none;padding:0px\">\n",
    "{}\n",
    "\n",
    "</blockquote>Sincerely, <br>Piotr\"\"\".format(date.strftime(\"%b %d\"), presenter, title, firstauth_email, \"-\".join([firstauth,MyTitle]),abstract)"
   ]
  },
  {
   "cell_type": "code",
   "execution_count": 16,
   "metadata": {},
   "outputs": [
    {
     "data": {
      "text/html": [
       "Dear all,<div><br></div><div>Our next Computational Neuroscience Journal Club meeting will be <b>Monday, May 13, at 1:00 pm in the IACS Seminar Room</b>. Yanliang Shi will be presenting the paper &quot;Hierarchical Heterogeneity across Human Cortex Shapes Large-Scale Neural Dynamics&quot; by Demirtas et al. (You can download the paper from the Catnip Lab <font color=3D\"#1155cc\"><a href=\"https://catniplab.github.io/Demirtas-HierarchicalHeterogeneity/\">web page</a></font>)<div></div></div><blockquote style=3D\"margin:0px 0px 0px 40px;border:medium none;padding:0px\">\n",
       "Summary\n",
       "The large-scale organization of dynamical neural activity across cortex emerges through long-range interactions among local circuits. We hypothesized that large-scale dynamics are also shaped by heterogeneity of intrinsic local properties across cortical areas. One key axis along which microcircuit properties are specialized relates to hierarchical levels of cortical organization. We developed a large-scale dynamical circuit model of human cortex that incorporates heterogeneity of local synaptic strengths, following a hierarchical axis inferred from magnetic resonance imaging (MRI)-derived T1- to T2-weighted (T1w/T2w) mapping and fit the model using multimodal neuroimaging data. We found that incorporating hierarchical heterogeneity substantially improves the model fit to functional MRI (fMRI)-measured resting-state functional connectivity and captures sensory-association organization of multiple fMRI features. The model predicts hierarchically organized higher-frequency spectral power, which we tested with resting-state magnetoencephalography. These findings suggest circuit-level mechanisms linking spatiotemporal levels of analysis and highlight the importance of local properties and their hierarchical specialization on the large-scale organization of human cortical dynamics.\n",
       "\n",
       "</blockquote>Sincerely, <br>Piotr"
      ],
      "text/plain": [
       "<IPython.core.display.HTML object>"
      ]
     },
     "metadata": {},
     "output_type": "display_data"
    }
   ],
   "source": [
    "import ipywidgets as widgets\n",
    "from IPython.display import display, HTML\n",
    "import threading\n",
    "out = widgets.Output()\n",
    "\n",
    "display(HTML(body_html))"
   ]
  },
  {
   "cell_type": "code",
   "execution_count": 17,
   "metadata": {},
   "outputs": [
    {
     "data": {
      "text/plain": [
       "(221, b'2.0.0 closing connection p63sm3081740qkd.1 - gsmtp')"
      ]
     },
     "execution_count": 17,
     "metadata": {},
     "output_type": "execute_result"
    }
   ],
   "source": [
    "msg = MIMEMultipart('alternative')\n",
    "msg['Subject'] = subject\n",
    "msg['From'] = sent_from\n",
    "msg['To'] = to\n",
    "part1 = MIMEText(body, 'plain')\n",
    "part2 = MIMEText(body_html, 'html')\n",
    "msg.attach(part1)\n",
    "msg.attach(part2)\n",
    "s.sendmail(sent_from, to, msg.as_string())\n",
    "s.quit()"
   ]
  },
  {
   "cell_type": "code",
   "execution_count": null,
   "metadata": {},
   "outputs": [],
   "source": []
  }
 ],
 "metadata": {
  "kernelspec": {
   "display_name": "Python 3",
   "language": "python",
   "name": "python3"
  },
  "language_info": {
   "codemirror_mode": {
    "name": "ipython",
    "version": 3
   },
   "file_extension": ".py",
   "mimetype": "text/x-python",
   "name": "python",
   "nbconvert_exporter": "python",
   "pygments_lexer": "ipython3",
   "version": "3.7.2"
  }
 },
 "nbformat": 4,
 "nbformat_minor": 2
}
