{
 "cells": [
  {
   "cell_type": "code",
   "execution_count": 98,
   "metadata": {
    "collapsed": true
   },
   "outputs": [],
   "source": [
    "import seaborn as sns\n",
    "import pandas as pd\n",
    "import numpy as np\n",
    "from sklearn.model_selection import train_test_split, GridSearchCV, cross_val_score\n",
    "from sklearn.neighbors import KNeighborsClassifier\n",
    "from sklearn.preprocessing import OneHotEncoder, label_binarize\n",
    "from sklearn.ensemble import RandomForestClassifier\n",
    "from sklearn.linear_model import LogisticRegression\n",
    "from sklearn.tree import DecisionTreeClassifier\n",
    "from sklearn.metrics import confusion_matrix, classification_report, roc_curve, auc\n",
    "import matplotlib.pyplot as plt\n",
    "%matplotlib inline\n"
   ]
  },
  {
   "cell_type": "code",
   "execution_count": 99,
   "metadata": {
    "collapsed": true
   },
   "outputs": [],
   "source": [
    "df_train = pd.read_csv('after1920_train.csv', encoding='ISO 8859-1', dtype='object', index_col=0)\n",
    "## I created test tests for different time periods using the code in Notebook5"
   ]
  },
  {
   "cell_type": "code",
   "execution_count": 100,
   "metadata": {},
   "outputs": [
    {
     "data": {
      "text/plain": [
       "Index(['adminAction', 'adminActionState', 'authorityDecision1',\n",
       "       'authorityDecision2', 'caseDisposition', 'caseDispositionUnusual',\n",
       "       'caseId', 'caseIssuesId', 'caseName', 'caseOrigin', 'caseOriginState',\n",
       "       'caseSource', 'caseSourceState', 'certReason', 'chief', 'dateArgument',\n",
       "       'dateDecision', 'dateRearg', 'decisionDirection',\n",
       "       'decisionDirectionDissent', 'decisionType', 'declarationUncon',\n",
       "       'docket', 'docketId', 'issue', 'issueArea', 'jurisdiction', 'lawMinor',\n",
       "       'lawSupp', 'lawType', 'lcDisagreement', 'lcDisposition',\n",
       "       'lcDispositionDirection', 'ledCite', 'lexisCite', 'majOpinAssigner',\n",
       "       'majOpinWriter', 'majVotes', 'minVotes', 'naturalCourt', 'partyWinning',\n",
       "       'petitioner', 'petitionerState', 'precedentAlteration', 'respondent',\n",
       "       'respondentState', 'sctCite', 'splitVote', 'term', 'threeJudgeFdc',\n",
       "       'usCite', 'voteId', 'voteUnclear'],\n",
       "      dtype='object')"
      ]
     },
     "execution_count": 100,
     "metadata": {},
     "output_type": "execute_result"
    }
   ],
   "source": [
    "df_train.columns"
   ]
  },
  {
   "cell_type": "markdown",
   "metadata": {},
   "source": [
    "I removed a large number of columns because of the following reasons: \n",
    "information included in other columns for example docketId, caseIssuesId,and voteId are included in caseId \n",
    "information such as the name, id, docket, etc.of a case are also no likely predictive of the outcome\n",
    "information such as the chief justice, term or naturalCourt are not likely relevant to individual votes\n",
    "Information that is unavailable until after a decision and is not the target of the model should not be used\n",
    "Columns with large amounts of missing data were also eliminated. This included the state level information"
   ]
  },
  {
   "cell_type": "code",
   "execution_count": 101,
   "metadata": {
    "collapsed": true
   },
   "outputs": [],
   "source": [
    "dropcols = ['docketId', 'caseIssuesId', 'voteId', 'dateDecision',\n",
    "       'decisionType', 'usCite', 'sctCite', 'ledCite', 'lexisCite', 'term',\n",
    "            'chief', 'docket', 'caseName', 'dateArgument',\n",
    "       'dateRearg', 'petitionerState',\n",
    "       'respondentState', 'jurisdiction', 'adminAction', 'adminActionState',\n",
    "       'threeJudgeFdc', 'caseOriginState',\n",
    "       'caseSourceState', 'lcDisagreement', 'certReason', 'lcDisposition',\n",
    "        'declarationUncon', 'caseDisposition',\n",
    "       'caseDispositionUnusual', 'partyWinning', 'precedentAlteration',\n",
    "       'voteUnclear', 'issue',\n",
    "       'decisionDirectionDissent', 'authorityDecision1', 'authorityDecision2',\n",
    "       'lawType', 'lawSupp', 'lawMinor', 'majOpinWriter', 'majOpinAssigner',\n",
    "       'splitVote', 'majVotes', 'minVotes']\n",
    "\n",
    "for col in dropcols:\n",
    "    df_train.drop(col, axis=1, inplace=True)\n",
    "\n",
    "\n"
   ]
  },
  {
   "cell_type": "code",
   "execution_count": 102,
   "metadata": {},
   "outputs": [
    {
     "data": {
      "text/plain": [
       "(11341, 9)"
      ]
     },
     "execution_count": 102,
     "metadata": {},
     "output_type": "execute_result"
    }
   ],
   "source": [
    "df_train.shape"
   ]
  },
  {
   "cell_type": "code",
   "execution_count": 103,
   "metadata": {
    "collapsed": true
   },
   "outputs": [],
   "source": [
    "df_train = df_train[df_train.decisionDirection != '3']  ## removing non-political decisions\n",
    "df_train.dropna(axis=0, inplace=True)\n"
   ]
  },
  {
   "cell_type": "code",
   "execution_count": 104,
   "metadata": {},
   "outputs": [
    {
     "data": {
      "text/plain": [
       "(10529, 9)"
      ]
     },
     "execution_count": 104,
     "metadata": {},
     "output_type": "execute_result"
    }
   ],
   "source": [
    "df_train.shape"
   ]
  },
  {
   "cell_type": "code",
   "execution_count": 105,
   "metadata": {
    "collapsed": true
   },
   "outputs": [],
   "source": [
    "target = 'decisionDirection'\n",
    "y_train = df_train[target]\n",
    "X_train = df_train[[col for col in df_train.columns if col != target]]"
   ]
  },
  {
   "cell_type": "code",
   "execution_count": 106,
   "metadata": {},
   "outputs": [
    {
     "data": {
      "text/html": [
       "<div>\n",
       "<style>\n",
       "    .dataframe thead tr:only-child th {\n",
       "        text-align: right;\n",
       "    }\n",
       "\n",
       "    .dataframe thead th {\n",
       "        text-align: left;\n",
       "    }\n",
       "\n",
       "    .dataframe tbody tr th {\n",
       "        vertical-align: top;\n",
       "    }\n",
       "</style>\n",
       "<table border=\"1\" class=\"dataframe\">\n",
       "  <thead>\n",
       "    <tr style=\"text-align: right;\">\n",
       "      <th></th>\n",
       "      <th>caseId</th>\n",
       "      <th>caseOrigin</th>\n",
       "      <th>caseSource</th>\n",
       "      <th>issueArea</th>\n",
       "      <th>lcDispositionDirection</th>\n",
       "      <th>naturalCourt</th>\n",
       "      <th>petitioner</th>\n",
       "      <th>respondent</th>\n",
       "    </tr>\n",
       "  </thead>\n",
       "  <tbody>\n",
       "    <tr>\n",
       "      <th>count</th>\n",
       "      <td>10529</td>\n",
       "      <td>10529</td>\n",
       "      <td>10529</td>\n",
       "      <td>10529</td>\n",
       "      <td>10529</td>\n",
       "      <td>10529</td>\n",
       "      <td>10529</td>\n",
       "      <td>10529</td>\n",
       "    </tr>\n",
       "    <tr>\n",
       "      <th>unique</th>\n",
       "      <td>10529</td>\n",
       "      <td>137</td>\n",
       "      <td>115</td>\n",
       "      <td>13</td>\n",
       "      <td>3</td>\n",
       "      <td>48</td>\n",
       "      <td>262</td>\n",
       "      <td>250</td>\n",
       "    </tr>\n",
       "    <tr>\n",
       "      <th>top</th>\n",
       "      <td>1944-055</td>\n",
       "      <td>302</td>\n",
       "      <td>300</td>\n",
       "      <td>8</td>\n",
       "      <td>1</td>\n",
       "      <td>1103</td>\n",
       "      <td>27</td>\n",
       "      <td>27</td>\n",
       "    </tr>\n",
       "    <tr>\n",
       "      <th>freq</th>\n",
       "      <td>1</td>\n",
       "      <td>2295</td>\n",
       "      <td>2047</td>\n",
       "      <td>2992</td>\n",
       "      <td>5686</td>\n",
       "      <td>812</td>\n",
       "      <td>958</td>\n",
       "      <td>1393</td>\n",
       "    </tr>\n",
       "  </tbody>\n",
       "</table>\n",
       "</div>"
      ],
      "text/plain": [
       "          caseId caseOrigin caseSource issueArea lcDispositionDirection  \\\n",
       "count      10529      10529      10529     10529                  10529   \n",
       "unique     10529        137        115        13                      3   \n",
       "top     1944-055        302        300         8                      1   \n",
       "freq           1       2295       2047      2992                   5686   \n",
       "\n",
       "       naturalCourt petitioner respondent  \n",
       "count         10529      10529      10529  \n",
       "unique           48        262        250  \n",
       "top            1103         27         27  \n",
       "freq            812        958       1393  "
      ]
     },
     "execution_count": 106,
     "metadata": {},
     "output_type": "execute_result"
    }
   ],
   "source": [
    "X_train.describe()"
   ]
  },
  {
   "cell_type": "markdown",
   "metadata": {},
   "source": [
    "Petitioner and Respondent are each categorical valiables with up to 310 categories.  I decided to combine categories based on the frequency of each category and based on the decriptions of each type at http://scdb.wustl.edu/documentation.php along with my subject matter knowledge of law and supreme court decisions. \n",
    "\n",
    "I created the speadsheet codelist.csv and a function to reduce the number of categories/\n",
    "There were only 13 categories of issues, but some occur infrequently so I combined any missing values along with the less frequent cateories into one category: 'misc.' to again reduce the number of categories. "
   ]
  },
  {
   "cell_type": "code",
   "execution_count": 107,
   "metadata": {
    "collapsed": true
   },
   "outputs": [],
   "source": [
    "parties = pd.read_csv(\"codelist.csv\", index_col=None)\n",
    "def party_categorizer(val):\n",
    "    if val in parties.State.values:\n",
    "        return '1'\n",
    "    elif val in parties.Federal.values:\n",
    "        return '2'\n",
    "    elif val in parties.Criminal.values:\n",
    "        return '3'\n",
    "    elif val in parties.Liberal.values:\n",
    "        return '4'\n",
    "    elif val in parties.RTY.values:\n",
    "        return '5'\n",
    "    elif val in parties.Finance.values:\n",
    "        return '6'\n",
    "    elif val in parties.Business.values:\n",
    "        return '7'\n",
    "    elif val in parties.Political.values:\n",
    "        return '8'\n",
    "    elif val in parties.famend.values:\n",
    "        return '9'\n",
    "    else:\n",
    "        return '10'\n",
    " \n",
    "\n",
    "def issue_consolidate(num):\n",
    "    if num == \"None\":\n",
    "        return '13'\n",
    "    if int(num) in [0, 3, 5, 6, 7, 11, 14]:\n",
    "        return '13'\n",
    "    else:\n",
    "        return str(num)\n",
    "    \n",
    "       "
   ]
  },
  {
   "cell_type": "markdown",
   "metadata": {},
   "source": [
    "Additonally there are 211 categories for case soure an case origin.  I combined these categories into 'state courts' and non-state courts with the lamda functions below. "
   ]
  },
  {
   "cell_type": "code",
   "execution_count": 108,
   "metadata": {},
   "outputs": [
    {
     "name": "stderr",
     "output_type": "stream",
     "text": [
      "/Users/joshuapohl/anaconda/lib/python3.6/site-packages/pandas/core/generic.py:2999: SettingWithCopyWarning: \n",
      "A value is trying to be set on a copy of a slice from a DataFrame.\n",
      "Try using .loc[row_indexer,col_indexer] = value instead\n",
      "\n",
      "See the caveats in the documentation: http://pandas.pydata.org/pandas-docs/stable/indexing.html#indexing-view-versus-copy\n",
      "  self[name] = value\n"
     ]
    }
   ],
   "source": [
    "X_train.issueArea = X_train.issueArea.apply(lambda x: issue_consolidate(x))\n",
    "X_train.petitioner = X_train.petitioner.apply(lambda x: party_categorizer(int(x)))                                  \n",
    "X_train.respondent = X_train.respondent.apply(lambda x: party_categorizer(int(x)))\n",
    "X_train.caseSource = X_train.caseSource.apply(lambda x :'1' if x in ['300', '301', '301'] else '0')\n",
    "X_train.caseOrigin = X_train.caseOrigin.apply(lambda x :'1' if x in ['300', '301', '301'] else '0')"
   ]
  },
  {
   "cell_type": "code",
   "execution_count": 109,
   "metadata": {},
   "outputs": [
    {
     "data": {
      "text/plain": [
       "(10529, 8)"
      ]
     },
     "execution_count": 109,
     "metadata": {},
     "output_type": "execute_result"
    }
   ],
   "source": [
    "X_train.shape"
   ]
  },
  {
   "cell_type": "code",
   "execution_count": 110,
   "metadata": {},
   "outputs": [
    {
     "name": "stderr",
     "output_type": "stream",
     "text": [
      "/Users/joshuapohl/anaconda/lib/python3.6/site-packages/pandas/core/generic.py:2999: SettingWithCopyWarning: \n",
      "A value is trying to be set on a copy of a slice from a DataFrame.\n",
      "Try using .loc[row_indexer,col_indexer] = value instead\n",
      "\n",
      "See the caveats in the documentation: http://pandas.pydata.org/pandas-docs/stable/indexing.html#indexing-view-versus-copy\n",
      "  self[name] = value\n"
     ]
    }
   ],
   "source": [
    "df_test = pd.read_csv('case_test_mod.csv', encoding='ISO 8859-1', dtype='object', index_col=0)\n",
    "for col in dropcols:\n",
    "    df_test.drop(col, axis=1, inplace=True) \n",
    "df_test = df_test[df_test.decisionDirection != '3']\n",
    "df_test.dropna(axis=0, inplace=True)\n",
    "y_test = df_test[target]\n",
    "X_test = df_test[[col for col in X_train.columns]]\n",
    "X_test.issueArea = X_test.issueArea.apply(lambda x: issue_consolidate(x))\n",
    "X_test.petitioner = X_test.petitioner.apply(lambda x: party_categorizer(int(x)))                                  \n",
    "X_test.respondent = X_test.respondent.apply(lambda x: party_categorizer(int(x)))\n",
    "X_test.caseSource = X_test.caseSource.apply(lambda x :'1' if x in ['300', '301', '301'] else '0')\n",
    "X_test.caseOrigin = X_test.caseOrigin.apply(lambda x :'1' if x in ['300', '301', '301'] else '0')"
   ]
  },
  {
   "cell_type": "code",
   "execution_count": 111,
   "metadata": {},
   "outputs": [
    {
     "data": {
      "text/plain": [
       "(1682, 8)"
      ]
     },
     "execution_count": 111,
     "metadata": {},
     "output_type": "execute_result"
    }
   ],
   "source": [
    "X_test.shape"
   ]
  },
  {
   "cell_type": "code",
   "execution_count": 112,
   "metadata": {},
   "outputs": [
    {
     "data": {
      "text/plain": [
       "(1682, 9)"
      ]
     },
     "execution_count": 112,
     "metadata": {},
     "output_type": "execute_result"
    }
   ],
   "source": [
    "df_test.shape"
   ]
  },
  {
   "cell_type": "markdown",
   "metadata": {},
   "source": [
    "I decided not to use the justice level voting data for my model.  However, I decided to use the naturalCourt columns that identifies the justices for each case -- and use naturalCourt to create dummy variables for each justice so that the identify of each justice is a feature for my model, although nothing more than the identity. "
   ]
  },
  {
   "cell_type": "code",
   "execution_count": 113,
   "metadata": {
    "collapsed": true
   },
   "outputs": [],
   "source": [
    "judges_old = pd.read_csv('SCDB_Legacy_04_justiceCentered_Citation.csv', encoding='ISO 8859-1', dtype='object', index_col=0)\n",
    "judges_new = pd.read_csv('justice_train_mod.csv', encoding='ISO 8859-1', dtype='object', index_col=0)\n",
    "\n",
    "judges = pd.concat([judges_old, judges_new])\n",
    "judges = judges[['naturalCourt', 'justiceName']]\n",
    "courtdict = {}\n",
    "for nc in judges['naturalCourt'].unique():\n",
    "    courtdict[nc] = [x for x in (judges.loc[judges['naturalCourt'] == nc, :]['justiceName'].unique())]\n",
    "\n",
    "def justices(key):\n",
    "    return courtdict[key]\n"
   ]
  },
  {
   "cell_type": "code",
   "execution_count": 114,
   "metadata": {
    "collapsed": true
   },
   "outputs": [],
   "source": [
    "X_train['judgeList'] = X_train.naturalCourt.apply(justices)"
   ]
  },
  {
   "cell_type": "code",
   "execution_count": 115,
   "metadata": {
    "collapsed": true
   },
   "outputs": [],
   "source": [
    "X_test['judgeList'] = X_test.naturalCourt.apply(justices)"
   ]
  },
  {
   "cell_type": "code",
   "execution_count": 116,
   "metadata": {
    "collapsed": true
   },
   "outputs": [],
   "source": [
    "justice_list = judges.justiceName.unique()"
   ]
  },
  {
   "cell_type": "code",
   "execution_count": 117,
   "metadata": {
    "collapsed": true
   },
   "outputs": [],
   "source": [
    "for item in justice_list:\n",
    "    X_train[item] = X_train.judgeList.apply(lambda x: '1' if item in x else '0')\n",
    "    X_test[item] = X_test.judgeList.apply(lambda x: '1' if item in x else '0')"
   ]
  },
  {
   "cell_type": "markdown",
   "metadata": {},
   "source": [
    " Now that I have dummy variables for each justice, I will drop columns 'naturalCourt' and 'judgeList that I used to generate the dummy variables, but will not use directly.  I will also drop columns that contain redundant information, such as the presence and absence of the same justice. "
   ]
  },
  {
   "cell_type": "code",
   "execution_count": 118,
   "metadata": {
    "collapsed": true
   },
   "outputs": [],
   "source": [
    "X_train.drop(['naturalCourt', 'judgeList'], axis=1, inplace=True)\n",
    "X_test.drop(['naturalCourt', 'judgeList'], axis=1, inplace=True)\n"
   ]
  },
  {
   "cell_type": "markdown",
   "metadata": {},
   "source": [
    "My list of justices (justice_list) includes justices that did not decide any cases during the period (1920-2016) in my training set, so I use the following code to remove the variables for justices that are not in the dataset."
   ]
  },
  {
   "cell_type": "code",
   "execution_count": 119,
   "metadata": {
    "collapsed": true
   },
   "outputs": [],
   "source": [
    "goodcols = [x for x in X_train.describe().iloc[1, :][X_train.describe().iloc[1, :] != 1].index]\n",
    "X_train = X_train[goodcols]\n",
    "X_test = X_test[goodcols]"
   ]
  },
  {
   "cell_type": "code",
   "execution_count": 120,
   "metadata": {
    "collapsed": true
   },
   "outputs": [],
   "source": [
    "Train_caseID = X_train.caseId\n",
    "Test_caseID = X_test.caseId\n",
    "X_train = X_train.iloc[:,1:]\n",
    "X_test = X_test.iloc[:, 1:]"
   ]
  },
  {
   "cell_type": "markdown",
   "metadata": {},
   "source": [
    "I use OneHotEndoder to create dummy variables for the cleaned categorical data."
   ]
  },
  {
   "cell_type": "code",
   "execution_count": 121,
   "metadata": {
    "collapsed": true
   },
   "outputs": [],
   "source": [
    "ohc = OneHotEncoder(sparse=False)\n",
    "ohc.fit(X_train)\n",
    "X_trainX = ohc.transform(X_train)\n",
    "X_testX = ohc.transform(X_test)"
   ]
  },
  {
   "cell_type": "markdown",
   "metadata": {},
   "source": [
    "The data is ready for modelling, but I added the following code after the fact to make interpretation of the encoded data easier. "
   ]
  },
  {
   "cell_type": "code",
   "execution_count": 122,
   "metadata": {
    "collapsed": true
   },
   "outputs": [],
   "source": [
    "fDICT = {}\n",
    "for i in range(X_train.shape[1]):\n",
    "    fDICT[ohc.feature_indices_[i]] = X_train.columns[i] + '0'\n",
    "\n",
    "for k in range(ohc.active_features_[-1]+1):\n",
    "    if k not in fDICT.keys():\n",
    "        fDICT[k] = fDICT[k-1][:-1] + str(int(fDICT[k-1][-1]) + 1)\n",
    "\n",
    "featinx = [x for x in fDICT.keys()]\n",
    "\n",
    "for i in featinx:\n",
    "    if i not in ohc.active_features_:\n",
    "        fDICT.pop(i)\n",
    "\n",
    "colist = []\n",
    "for i in ohc.active_features_:\n",
    "    colist.append(fDICT[i])\n",
    "\n",
    "train_data = pd.DataFrame(X_trainX)\n",
    "train_data.columns = colist\n",
    "test_data = pd.DataFrame(X_testX)\n",
    "test_data.columns = colist\n",
    "\n",
    "cols = train_data.columns\n",
    "\n",
    "keeps = []\n",
    "for i in range(len(ohc.active_features_)-1):\n",
    "    if cols[i][:8] == cols[i+1][:8]:\n",
    "        keeps.append(cols[i])\n",
    "\n",
    "train_data = train_data[keeps]\n",
    "test_data = test_data[keeps]"
   ]
  },
  {
   "cell_type": "markdown",
   "metadata": {},
   "source": [
    "Two of the models that I tried, but did not chose are KNN and Logistic Regression.  My work on these models in Notebook2. I also included my attempts at Gradient Boost and Keras in Notebook3 and Notebook4.  Random Forest provided greater consistent accuracy, so that is the model I chose.  I tuned the hyperparameters using the commented out code below.  I commented this portion out, because the code is slow."
   ]
  },
  {
   "cell_type": "code",
   "execution_count": 123,
   "metadata": {
    "collapsed": true
   },
   "outputs": [],
   "source": [
    "#rfc = RandomForestClassifier(random_state=2017, n_jobs=-1)"
   ]
  },
  {
   "cell_type": "code",
   "execution_count": 124,
   "metadata": {
    "collapsed": true
   },
   "outputs": [],
   "source": [
    "# params = {\n",
    "#     'n_estimators': [10, 20, 30, 40, 50, 60, 70, 80, 90, 100, 110, 120],\n",
    "#     'max_depth': [12, 13, 14, 15, 16],\n",
    "#     'criterion': ['gini', 'entropy'],\n",
    "#     'min_samples_split': [2, 3],\n",
    "#     'min_samples_leaf': [1, 2, 3]\n",
    "# }"
   ]
  },
  {
   "cell_type": "code",
   "execution_count": 125,
   "metadata": {
    "collapsed": true
   },
   "outputs": [],
   "source": [
    "# gs_rfc = GridSearchCV(rfc, param_grid=params, verbose=1, n_jobs=-1)"
   ]
  },
  {
   "cell_type": "code",
   "execution_count": 126,
   "metadata": {
    "collapsed": true
   },
   "outputs": [],
   "source": [
    "# gs_rfc.fit(train_data, y_train)"
   ]
  },
  {
   "cell_type": "code",
   "execution_count": 127,
   "metadata": {
    "collapsed": true
   },
   "outputs": [],
   "source": [
    "# gs_rfc.score(test_data, y_test)"
   ]
  },
  {
   "cell_type": "code",
   "execution_count": 128,
   "metadata": {
    "collapsed": true
   },
   "outputs": [],
   "source": [
    "# gs_rfc.best_params_"
   ]
  },
  {
   "cell_type": "code",
   "execution_count": 129,
   "metadata": {
    "collapsed": true
   },
   "outputs": [],
   "source": [
    "model = RandomForestClassifier(n_estimators=10, min_samples_leaf=2, max_depth=15, random_state=2017)"
   ]
  },
  {
   "cell_type": "code",
   "execution_count": 130,
   "metadata": {
    "collapsed": true
   },
   "outputs": [],
   "source": [
    "#y_train = y_train.apply(lambda x: True if x == '2' else False)\n",
    "#y_test = y_test.apply(lambda x: True if x == '2' else False)"
   ]
  },
  {
   "cell_type": "code",
   "execution_count": 131,
   "metadata": {
    "collapsed": true
   },
   "outputs": [],
   "source": [
    "y_trainb = label_binarize(y_train,['1', '2'])\n",
    "\n",
    "y_testb = label_binarize(y_test,['1', '2'])"
   ]
  },
  {
   "cell_type": "code",
   "execution_count": 132,
   "metadata": {
    "scrolled": true
   },
   "outputs": [
    {
     "name": "stderr",
     "output_type": "stream",
     "text": [
      "/Users/joshuapohl/anaconda/lib/python3.6/site-packages/ipykernel_launcher.py:1: DataConversionWarning: A column-vector y was passed when a 1d array was expected. Please change the shape of y to (n_samples,), for example using ravel().\n",
      "  \"\"\"Entry point for launching an IPython kernel.\n"
     ]
    },
    {
     "data": {
      "text/plain": [
       "RandomForestClassifier(bootstrap=True, class_weight=None, criterion='gini',\n",
       "            max_depth=15, max_features='auto', max_leaf_nodes=None,\n",
       "            min_impurity_split=1e-07, min_samples_leaf=2,\n",
       "            min_samples_split=2, min_weight_fraction_leaf=0.0,\n",
       "            n_estimators=10, n_jobs=1, oob_score=False, random_state=2017,\n",
       "            verbose=0, warm_start=False)"
      ]
     },
     "execution_count": 132,
     "metadata": {},
     "output_type": "execute_result"
    }
   ],
   "source": [
    "model.fit(train_data, y_trainb)"
   ]
  },
  {
   "cell_type": "code",
   "execution_count": 133,
   "metadata": {
    "scrolled": true
   },
   "outputs": [
    {
     "data": {
      "text/plain": [
       "0.7276094595878051"
      ]
     },
     "execution_count": 133,
     "metadata": {},
     "output_type": "execute_result"
    }
   ],
   "source": [
    "model.score(train_data, y_trainb)"
   ]
  },
  {
   "cell_type": "code",
   "execution_count": 134,
   "metadata": {},
   "outputs": [
    {
     "data": {
      "text/plain": [
       "0.643281807372176"
      ]
     },
     "execution_count": 134,
     "metadata": {},
     "output_type": "execute_result"
    }
   ],
   "source": [
    "model.score(test_data, y_testb)"
   ]
  },
  {
   "cell_type": "markdown",
   "metadata": {},
   "source": [
    "Below I create a dataframe with the a column for features and a column for the importance of each feature.  I then sort this dataframe to find the most important features. "
   ]
  },
  {
   "cell_type": "code",
   "execution_count": 135,
   "metadata": {
    "collapsed": true
   },
   "outputs": [],
   "source": [
    "imp_df = pd.DataFrame([train_data.columns, model.feature_importances_]).T"
   ]
  },
  {
   "cell_type": "code",
   "execution_count": 136,
   "metadata": {
    "collapsed": true
   },
   "outputs": [],
   "source": [
    "imp_df.columns = ['feature', 'importance']"
   ]
  },
  {
   "cell_type": "code",
   "execution_count": 137,
   "metadata": {
    "collapsed": true
   },
   "outputs": [],
   "source": [
    "imp_df['feature'] = imp_df.feature.apply(lambda x: x[:-2] if x[-2] == '1' else x[:-1] )"
   ]
  },
  {
   "cell_type": "code",
   "execution_count": 138,
   "metadata": {
    "collapsed": true
   },
   "outputs": [],
   "source": [
    "combo_imp = imp_df.groupby('feature').sum()"
   ]
  },
  {
   "cell_type": "code",
   "execution_count": 139,
   "metadata": {
    "collapsed": true
   },
   "outputs": [],
   "source": [
    "combo_imp.features = [x for x in combo_imp.index]"
   ]
  },
  {
   "cell_type": "code",
   "execution_count": 140,
   "metadata": {
    "collapsed": true
   },
   "outputs": [],
   "source": [
    "top_features = combo_imp.sort_values('importance', ascending=False).head(10)"
   ]
  },
  {
   "cell_type": "code",
   "execution_count": 141,
   "metadata": {
    "collapsed": true
   },
   "outputs": [],
   "source": [
    "top_features.reset_index(inplace=True)"
   ]
  },
  {
   "cell_type": "code",
   "execution_count": 142,
   "metadata": {},
   "outputs": [
    {
     "data": {
      "text/html": [
       "<div>\n",
       "<style>\n",
       "    .dataframe thead tr:only-child th {\n",
       "        text-align: right;\n",
       "    }\n",
       "\n",
       "    .dataframe thead th {\n",
       "        text-align: left;\n",
       "    }\n",
       "\n",
       "    .dataframe tbody tr th {\n",
       "        vertical-align: top;\n",
       "    }\n",
       "</style>\n",
       "<table border=\"1\" class=\"dataframe\">\n",
       "  <thead>\n",
       "    <tr style=\"text-align: right;\">\n",
       "      <th></th>\n",
       "      <th>feature</th>\n",
       "      <th>importance</th>\n",
       "    </tr>\n",
       "  </thead>\n",
       "  <tbody>\n",
       "    <tr>\n",
       "      <th>0</th>\n",
       "      <td>respondent</td>\n",
       "      <td>0.194822</td>\n",
       "    </tr>\n",
       "    <tr>\n",
       "      <th>1</th>\n",
       "      <td>issueArea</td>\n",
       "      <td>0.176424</td>\n",
       "    </tr>\n",
       "    <tr>\n",
       "      <th>2</th>\n",
       "      <td>petitioner</td>\n",
       "      <td>0.149601</td>\n",
       "    </tr>\n",
       "    <tr>\n",
       "      <th>3</th>\n",
       "      <td>lcDispositionDirection</td>\n",
       "      <td>0.109185</td>\n",
       "    </tr>\n",
       "    <tr>\n",
       "      <th>4</th>\n",
       "      <td>caseSource</td>\n",
       "      <td>0.041567</td>\n",
       "    </tr>\n",
       "    <tr>\n",
       "      <th>5</th>\n",
       "      <td>WHRehnquist</td>\n",
       "      <td>0.021022</td>\n",
       "    </tr>\n",
       "    <tr>\n",
       "      <th>6</th>\n",
       "      <td>JCMcReynolds</td>\n",
       "      <td>0.021000</td>\n",
       "    </tr>\n",
       "    <tr>\n",
       "      <th>7</th>\n",
       "      <td>WODouglas</td>\n",
       "      <td>0.019102</td>\n",
       "    </tr>\n",
       "    <tr>\n",
       "      <th>8</th>\n",
       "      <td>FFrankfurter</td>\n",
       "      <td>0.014993</td>\n",
       "    </tr>\n",
       "    <tr>\n",
       "      <th>9</th>\n",
       "      <td>HABlackmun</td>\n",
       "      <td>0.013559</td>\n",
       "    </tr>\n",
       "  </tbody>\n",
       "</table>\n",
       "</div>"
      ],
      "text/plain": [
       "                  feature  importance\n",
       "0              respondent    0.194822\n",
       "1               issueArea    0.176424\n",
       "2              petitioner    0.149601\n",
       "3  lcDispositionDirection    0.109185\n",
       "4              caseSource    0.041567\n",
       "5             WHRehnquist    0.021022\n",
       "6            JCMcReynolds    0.021000\n",
       "7               WODouglas    0.019102\n",
       "8            FFrankfurter    0.014993\n",
       "9              HABlackmun    0.013559"
      ]
     },
     "execution_count": 142,
     "metadata": {},
     "output_type": "execute_result"
    }
   ],
   "source": [
    "top_features"
   ]
  },
  {
   "cell_type": "code",
   "execution_count": 143,
   "metadata": {},
   "outputs": [
    {
     "data": {
      "text/plain": [
       "[<matplotlib.text.Text at 0x1174087f0>, <matplotlib.text.Text at 0x117d0bef0>]"
      ]
     },
     "execution_count": 143,
     "metadata": {},
     "output_type": "execute_result"
    },
    {
     "data": {
      "image/png": "[encoded data removed]",
      "text/plain": [
       "<matplotlib.figure.Figure at 0x115593080>"
      ]
     },
     "metadata": {},
     "output_type": "display_data"
    }
   ],
   "source": [
    "sns.set(style=\"darkgrid\")\n",
    "fig, ax = plt.subplots()\n",
    "fig.set_size_inches(14, 8)  \n",
    "ax.set_title(\"Relative Importance of Features\", fontdict={'fontsize': 25})\n",
    "ax = sns.barplot(x=\"feature\", y=\"importance\", data=top_features)\n",
    "ax.set(xlabel='Feature', ylabel='Relative Importance')\n"
   ]
  },
  {
   "cell_type": "markdown",
   "metadata": {},
   "source": [
    "Below is code for a Confusion Matrix Visualization"
   ]
  },
  {
   "cell_type": "code",
   "execution_count": 194,
   "metadata": {
    "scrolled": true
   },
   "outputs": [
    {
     "data": {
      "text/plain": [
       "<matplotlib.axes._subplots.AxesSubplot at 0x11540e9b0>"
      ]
     },
     "execution_count": 194,
     "metadata": {},
     "output_type": "execute_result"
    },
    {
     "data": {
      "image/png": "[encoded data removed]",
      "text/plain": [
       "<matplotlib.figure.Figure at 0x11292f358>"
      ]
     },
     "metadata": {},
     "output_type": "display_data"
    }
   ],
   "source": [
    "yhat = model.predict(test_data)\n",
    "conmat = np.array(confusion_matrix(y_testb, yhat))\n",
    "confusion = pd.DataFrame(conmat, index=['Conservative Decision', 'Liberal Decision'],\n",
    "                         columns=['Predicted Conservative','Predicted Liberal']).apply(lambda x: 100* x/x.sum(),axis=1)\n",
    "\n",
    "fig, ax = plt.subplots()\n",
    "ax.set_title(\"Confusion Matrix\", fontdict={'fontsize': 25})\n",
    "fig.set_size_inches(14, 8)\n",
    "fig.patch.set_facecolor('mintcream')\n",
    "sns.heatmap(confusion, annot=True, fmt='g', cmap='YlOrRd')"
   ]
  },
  {
   "cell_type": "markdown",
   "metadata": {},
   "source": [
    "The below classification report provides additional metrics for my model"
   ]
  },
  {
   "cell_type": "code",
   "execution_count": 195,
   "metadata": {},
   "outputs": [
    {
     "name": "stdout",
     "output_type": "stream",
     "text": [
      "                        precision    recall  f1-score   support\n",
      "\n",
      "Conservative Direction       0.65      0.59      0.62       826\n",
      "     Liberal Direction       0.64      0.69      0.66       856\n",
      "\n",
      "           avg / total       0.64      0.64      0.64      1682\n",
      "\n"
     ]
    }
   ],
   "source": [
    "target_names = ['Conservative Direction', 'Liberal Direction']\n",
    "print(classification_report(y_testb, yhat, target_names=target_names))"
   ]
  },
  {
   "cell_type": "markdown",
   "metadata": {
    "collapsed": true
   },
   "source": [
    "### Next Steps"
   ]
  },
  {
   "cell_type": "markdown",
   "metadata": {
    "collapsed": true
   },
   "source": [
    "1. Refine Model to include Time-Series information as well as justice level data.  Some research has been performed in this area that measures justices numerically, and I will strongly consider that.\n",
    "2. Review Feature Selection, since that was the biggest challenge for this model.  \n",
    "3. Review coding of features -- I may try other types of coding perhaps based on unsupervised learning techniques.\n",
    "4. Apply the model to 2017 and later cases to see how it performs \n"
   ]
  },
  {
   "cell_type": "code",
   "execution_count": 147,
   "metadata": {},
   "outputs": [
    {
     "data": {
      "text/html": [
       "<div>\n",
       "<style>\n",
       "    .dataframe thead tr:only-child th {\n",
       "        text-align: right;\n",
       "    }\n",
       "\n",
       "    .dataframe thead th {\n",
       "        text-align: left;\n",
       "    }\n",
       "\n",
       "    .dataframe tbody tr th {\n",
       "        vertical-align: top;\n",
       "    }\n",
       "</style>\n",
       "<table border=\"1\" class=\"dataframe\">\n",
       "  <thead>\n",
       "    <tr style=\"text-align: right;\">\n",
       "      <th></th>\n",
       "      <th>Predicted Conservative</th>\n",
       "      <th>Predicted Liberal</th>\n",
       "    </tr>\n",
       "  </thead>\n",
       "  <tbody>\n",
       "    <tr>\n",
       "      <th>Conservative Decision</th>\n",
       "      <td>490</td>\n",
       "      <td>336</td>\n",
       "    </tr>\n",
       "    <tr>\n",
       "      <th>Liberal Decision</th>\n",
       "      <td>264</td>\n",
       "      <td>592</td>\n",
       "    </tr>\n",
       "  </tbody>\n",
       "</table>\n",
       "</div>"
      ],
      "text/plain": [
       "                       Predicted Conservative  Predicted Liberal\n",
       "Conservative Decision                     490                336\n",
       "Liberal Decision                          264                592"
      ]
     },
     "execution_count": 147,
     "metadata": {},
     "output_type": "execute_result"
    }
   ],
   "source": [
    "confusion.head()"
   ]
  },
  {
   "cell_type": "code",
   "execution_count": 148,
   "metadata": {
    "collapsed": true
   },
   "outputs": [],
   "source": [
    "results_df = pd.DataFrame()"
   ]
  },
  {
   "cell_type": "code",
   "execution_count": 149,
   "metadata": {
    "collapsed": true
   },
   "outputs": [],
   "source": [
    "results_df['outcome'] = y_test"
   ]
  },
  {
   "cell_type": "code",
   "execution_count": 150,
   "metadata": {
    "collapsed": true
   },
   "outputs": [],
   "source": [
    "results_df['prediction'] = yhat"
   ]
  },
  {
   "cell_type": "code",
   "execution_count": 151,
   "metadata": {},
   "outputs": [
    {
     "data": {
      "text/plain": [
       "(1682, 2)"
      ]
     },
     "execution_count": 151,
     "metadata": {},
     "output_type": "execute_result"
    }
   ],
   "source": [
    "results_df.shape"
   ]
  },
  {
   "cell_type": "code",
   "execution_count": 152,
   "metadata": {},
   "outputs": [
    {
     "data": {
      "text/plain": [
       "1682"
      ]
     },
     "execution_count": 152,
     "metadata": {},
     "output_type": "execute_result"
    }
   ],
   "source": [
    "len(Test_caseID)"
   ]
  },
  {
   "cell_type": "code",
   "execution_count": 153,
   "metadata": {
    "collapsed": true
   },
   "outputs": [],
   "source": [
    "results_df['caseId'] = Test_caseID"
   ]
  },
  {
   "cell_type": "code",
   "execution_count": 154,
   "metadata": {},
   "outputs": [
    {
     "data": {
      "text/html": [
       "<div>\n",
       "<style>\n",
       "    .dataframe thead tr:only-child th {\n",
       "        text-align: right;\n",
       "    }\n",
       "\n",
       "    .dataframe thead th {\n",
       "        text-align: left;\n",
       "    }\n",
       "\n",
       "    .dataframe tbody tr th {\n",
       "        vertical-align: top;\n",
       "    }\n",
       "</style>\n",
       "<table border=\"1\" class=\"dataframe\">\n",
       "  <thead>\n",
       "    <tr style=\"text-align: right;\">\n",
       "      <th></th>\n",
       "      <th>outcome</th>\n",
       "      <th>prediction</th>\n",
       "      <th>caseId</th>\n",
       "    </tr>\n",
       "  </thead>\n",
       "  <tbody>\n",
       "    <tr>\n",
       "      <th>8</th>\n",
       "      <td>1</td>\n",
       "      <td>0</td>\n",
       "      <td>1946-009</td>\n",
       "    </tr>\n",
       "    <tr>\n",
       "      <th>19</th>\n",
       "      <td>1</td>\n",
       "      <td>0</td>\n",
       "      <td>1946-020</td>\n",
       "    </tr>\n",
       "    <tr>\n",
       "      <th>20</th>\n",
       "      <td>1</td>\n",
       "      <td>0</td>\n",
       "      <td>1946-021</td>\n",
       "    </tr>\n",
       "    <tr>\n",
       "      <th>21</th>\n",
       "      <td>2</td>\n",
       "      <td>1</td>\n",
       "      <td>1946-022</td>\n",
       "    </tr>\n",
       "    <tr>\n",
       "      <th>26</th>\n",
       "      <td>2</td>\n",
       "      <td>1</td>\n",
       "      <td>1946-027</td>\n",
       "    </tr>\n",
       "  </tbody>\n",
       "</table>\n",
       "</div>"
      ],
      "text/plain": [
       "   outcome  prediction    caseId\n",
       "8        1           0  1946-009\n",
       "19       1           0  1946-020\n",
       "20       1           0  1946-021\n",
       "21       2           1  1946-022\n",
       "26       2           1  1946-027"
      ]
     },
     "execution_count": 154,
     "metadata": {},
     "output_type": "execute_result"
    }
   ],
   "source": [
    "results_df.head()"
   ]
  },
  {
   "cell_type": "code",
   "execution_count": 155,
   "metadata": {
    "collapsed": true
   },
   "outputs": [],
   "source": [
    "mod_case = pd.read_csv('SCDB_2017_01_caseCentered_Citation.csv', encoding='ISO 8859-1', dtype='object')"
   ]
  },
  {
   "cell_type": "code",
   "execution_count": 156,
   "metadata": {
    "collapsed": true
   },
   "outputs": [],
   "source": [
    "caseIds = mod_case.caseId\n",
    "caseNames = mod_case.caseName"
   ]
  },
  {
   "cell_type": "code",
   "execution_count": 157,
   "metadata": {
    "collapsed": true
   },
   "outputs": [],
   "source": [
    "caseMap = dict(zip(caseIds, caseNames))"
   ]
  },
  {
   "cell_type": "code",
   "execution_count": 158,
   "metadata": {
    "collapsed": true
   },
   "outputs": [],
   "source": [
    "results_df['caseName'] = results_df.caseId.map(caseMap)"
   ]
  },
  {
   "cell_type": "code",
   "execution_count": 160,
   "metadata": {
    "collapsed": true
   },
   "outputs": [],
   "source": [
    "mistakes_df = results_df[results_df.outcome != results_df.prediction]"
   ]
  },
  {
   "cell_type": "code",
   "execution_count": 161,
   "metadata": {},
   "outputs": [
    {
     "data": {
      "text/plain": [
       "8       UNEMPLOYMENT COMPENSATION COMMISSION OF ALASKA...\n",
       "19      EAGLES, POST COMMANDING OFFICER, v. UNITED STA...\n",
       "20      EAGLES, POST COMMANDING OFFICER, v. UNITED STA...\n",
       "21      NATIONAL LABOR RELATIONS BOARD v. A. J. TOWER CO.\n",
       "26      MACGREGOR v. WESTINGHOUSE ELECTRIC & MANUFACTU...\n",
       "33       ANDERSON, RECEIVER, v. YUNGKAU, EXECUTOR, ET AL.\n",
       "45                    ELLIS v. UNION PACIFIC RAILROAD CO.\n",
       "63            AMERICAN STEVEDORES, INC. v. PORELLO ET AL.\n",
       "64          AETNA CASUALTY & SURETY CO. ET AL. v. FLOWERS\n",
       "66      PACKARD MOTOR CAR CO. v. NATIONAL LABOR RELATI...\n",
       "68      KOSTER v. (AMERICAN) LUMBERMENS MUTUAL CASUALT...\n",
       "71      KOTCH ET AL. v. BOARD OF RIVER PORT PILOT COMM...\n",
       "76                                 HAUPT v. UNITED STATES\n",
       "79            UNITED STATES v. OGILVIE HARDWARE CO., INC.\n",
       "83      BETHLEHEM STEEL CO. ET AL. v. NEW YORK STATE L...\n",
       "87                   TRAILMOBILE COMPANY ET AL. v. WHIRLS\n",
       "90      FLEMING, TEMPORARY CONTROLS ADMINISTRATOR, v. ...\n",
       "91      FLEMING, TEMPORARY CONTROLS ADMINISTRATOR, v. ...\n",
       "98      RICE ET AL. v. BOARD OF TRADE OF THE CITY OF C...\n",
       "105                            COPE v. ANDERSON, RECEIVER\n",
       "109     CLARK, ATTORNEY GENERAL, AS SUCCESSOR TO THE A...\n",
       "117        McWILLIAMS v. COMMISSIONER OF INTERNAL REVENUE\n",
       "119     RUTHERFORD FOOD CORP. ET AL. v. McCOMB, WAGE A...\n",
       "120     MEXICAN LIGHT & POWER CO., LTD. v. TEXAS MEXIC...\n",
       "121            BAZLEY v. COMMISSIONER OF INTERNAL REVENUE\n",
       "133                UNITED STATES v. YELLOW CAB CO. et al.\n",
       "138     UNITED STATES v. STANDARD OIL COMPANY OF CALIF...\n",
       "148                                  COX v. UNITED STATES\n",
       "149                           LILLIE v. THOMPSON, TRUSTEE\n",
       "151     SILESIAN-AMERICAN CORP. ET AL. v. CLARK, ATTOR...\n",
       "                              ...                        \n",
       "8655                                        MATA v. LYNCH\n",
       "8664                              MONTGOMERY v. LOUISIANA\n",
       "8673                                     BRUCE v. SAMUELS\n",
       "8676                     TYSON FOODS, INC., v. BOUAPHAKEO\n",
       "8677                                LUIS v. UNITED STATES\n",
       "8685    HARRIS v. ARIZONA INDEPENDENT REDISTRICTING CO...\n",
       "8686                                    EVENWEL v. ABBOTT\n",
       "8689                     MOLINAMARTINEZ v. UNITED STATES\n",
       "8699                HALO ELECTRONICS v. PULSE ELECTRONICS\n",
       "8700                             HUGHES v. PPL ENERGYPLUS\n",
       "8704       HUSKY INTERNATIONAL ELECTRONICS, INC., v. RITZ\n",
       "8713    UNITED STATES ARMY CORP OF ENGINEERS v. HAWKES...\n",
       "8714    AMGEN INC., et al., PETITIONERS v. STEVE HARRI...\n",
       "8717                                       WEARRY v. CAIN\n",
       "8725                           BIRCHFIELD v. NORTH DAKOTA\n",
       "8727                 KIRTSAENG v. JOHN WILEY & SONS, INC.\n",
       "8734                       SHAWN PATRICK LYNCH v. ARIZONA\n",
       "8736    SCOTT KERNAN, SECRETARY, CALIFORNIA DEPARTMENT...\n",
       "8744                             MANUEL v. CITY OF JOLIET\n",
       "8759                  BETHUNE-HILL v. VA BD. OF ELECTIONS\n",
       "8761             LIFE TECHNOLOGIES CORP. v. PROMEGA CORP.\n",
       "8762                                   NELSON v. COLORADO\n",
       "8764              EXPRESSIONS HAIR DESIGN v. SCHNEIDERMAN\n",
       "8765                 GOODYEAR TIRE & RUBBER CO. v. HAEGER\n",
       "8785            ADVOCATE HEALTH CARE NETWORK v. STAPLETON\n",
       "8793                                        KOKESH v. SEC\n",
       "8794                HENSON v. SANTANDER CONSUMER USA INC.\n",
       "8799    BRISTOL-MYERS SQUIBB CO. v. SUPERIOR COURT OF CA.\n",
       "8804    MICHAEL DAMON RIPPO, PETITIONER v. RENEE BAKER...\n",
       "8807            CHARLOTTE JENKINS, WARDEN v. PERCY HUTTON\n",
       "Name: caseName, Length: 1682, dtype: object"
      ]
     },
     "execution_count": 161,
     "metadata": {},
     "output_type": "execute_result"
    }
   ],
   "source": [
    "mistakes_df.caseName"
   ]
  },
  {
   "cell_type": "code",
   "execution_count": 246,
   "metadata": {
    "collapsed": true
   },
   "outputs": [],
   "source": [
    "prob_df = pd.DataFrame(model.predict_proba(test_data),columns = ['Conservative', 'Liberal'])\n",
    "fpr, tpr, thresh = roc_curve(y_testb, prob_df['Liberal'])\n",
    "roc_auc = auc(fpr, tpr)"
   ]
  },
  {
   "cell_type": "code",
   "execution_count": 247,
   "metadata": {
    "scrolled": true
   },
   "outputs": [
    {
     "data": {
      "text/plain": [
       "0    0.607524\n",
       "1    0.729205\n",
       "2    0.729205\n",
       "3    0.437554\n",
       "4    0.397331\n",
       "Name: Conservative, dtype: float64"
      ]
     },
     "execution_count": 247,
     "metadata": {},
     "output_type": "execute_result"
    }
   ],
   "source": [
    "prob_df['Conservative'].head()"
   ]
  },
  {
   "cell_type": "code",
   "execution_count": 248,
   "metadata": {},
   "outputs": [
    {
     "data": {
      "text/plain": [
       "<matplotlib.legend.Legend at 0x1181b3e48>"
      ]
     },
     "execution_count": 248,
     "metadata": {},
     "output_type": "execute_result"
    },
    {
     "data": {
      "image/png": "[encoded data removed]",
      "text/plain": [
       "<matplotlib.figure.Figure at 0x115689f60>"
      ]
     },
     "metadata": {},
     "output_type": "display_data"
    }
   ],
   "source": [
    "plt.figure(figsize=[8,8])\n",
    "plt.plot(fpr, tpr, label='ROC curve (area = %0.2f)' % roc_auc, linewidth=4)\n",
    "plt.plot([0, 1], [0, 1], 'k--', linewidth=4)\n",
    "plt.xlim([-0.05, 1.0])\n",
    "plt.ylim([-0.05, 1.05])\n",
    "plt.xlabel('False Positive Rate', fontsize=18)\n",
    "plt.ylabel('True Positive Rate', fontsize=18)\n",
    "plt.title('Receiver operating characteristic for Liberal Decisions', fontsize=18)\n",
    "plt.legend(loc=\"lower right\")"
   ]
  },
  {
   "cell_type": "code",
   "execution_count": null,
   "metadata": {
    "collapsed": true
   },
   "outputs": [],
   "source": []
  },
  {
   "cell_type": "code",
   "execution_count": null,
   "metadata": {
    "collapsed": true
   },
   "outputs": [],
   "source": []
  },
  {
   "cell_type": "code",
   "execution_count": null,
   "metadata": {
    "collapsed": true
   },
   "outputs": [],
   "source": []
  }
 ],
 "metadata": {
  "kernelspec": {
   "display_name": "Python 3",
   "language": "python",
   "name": "python3"
  },
  "language_info": {
   "codemirror_mode": {
    "name": "ipython",
    "version": 3
   },
   "file_extension": ".py",
   "mimetype": "text/x-python",
   "name": "python",
   "nbconvert_exporter": "python",
   "pygments_lexer": "ipython3",
   "version": "3.6.1"
  }
 },
 "nbformat": 4,
 "nbformat_minor": 2
}
